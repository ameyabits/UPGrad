{
 "cells": [
  {
   "cell_type": "code",
   "execution_count": 75,
   "metadata": {},
   "outputs": [],
   "source": [
    "import warnings\n",
    "warnings.filterwarnings(\"ignore\")"
   ]
  },
  {
   "cell_type": "code",
   "execution_count": 76,
   "metadata": {},
   "outputs": [],
   "source": [
    "#importing necessary libraries\n",
    "import numpy as np\n",
    "import pandas as pd\n",
    "import seaborn as sns \n",
    "import matplotlib.pyplot as plt\n",
    "%matplotlib inline"
   ]
  },
  {
   "cell_type": "markdown",
   "metadata": {},
   "source": [
    "##### Read Application Data"
   ]
  },
  {
   "cell_type": "code",
   "execution_count": 77,
   "metadata": {},
   "outputs": [],
   "source": [
    "Bank_AppData_DF= pd.read_csv('../Resources/CSV/application_data.csv')"
   ]
  },
  {
   "cell_type": "code",
   "execution_count": 78,
   "metadata": {},
   "outputs": [
    {
     "data": {
      "text/plain": [
       "(307511, 122)"
      ]
     },
     "execution_count": 78,
     "metadata": {},
     "output_type": "execute_result"
    }
   ],
   "source": [
    "# Shape of Application Data\n",
    "Bank_AppData_DF.shape"
   ]
  },
  {
   "cell_type": "markdown",
   "metadata": {},
   "source": [
    "##### Get Information Application Data"
   ]
  },
  {
   "cell_type": "code",
   "execution_count": 79,
   "metadata": {},
   "outputs": [
    {
     "name": "stdout",
     "output_type": "stream",
     "text": [
      "<class 'pandas.core.frame.DataFrame'>\n",
      "RangeIndex: 307511 entries, 0 to 307510\n",
      "Data columns (total 122 columns):\n",
      " #    Column                        Dtype  \n",
      "---   ------                        -----  \n",
      " 0    SK_ID_CURR                    int64  \n",
      " 1    TARGET                        int64  \n",
      " 2    NAME_CONTRACT_TYPE            object \n",
      " 3    CODE_GENDER                   object \n",
      " 4    FLAG_OWN_CAR                  object \n",
      " 5    FLAG_OWN_REALTY               object \n",
      " 6    CNT_CHILDREN                  int64  \n",
      " 7    AMT_INCOME_TOTAL              float64\n",
      " 8    AMT_CREDIT                    float64\n",
      " 9    AMT_ANNUITY                   float64\n",
      " 10   AMT_GOODS_PRICE               float64\n",
      " 11   NAME_TYPE_SUITE               object \n",
      " 12   NAME_INCOME_TYPE              object \n",
      " 13   NAME_EDUCATION_TYPE           object \n",
      " 14   NAME_FAMILY_STATUS            object \n",
      " 15   NAME_HOUSING_TYPE             object \n",
      " 16   REGION_POPULATION_RELATIVE    float64\n",
      " 17   DAYS_BIRTH                    int64  \n",
      " 18   DAYS_EMPLOYED                 int64  \n",
      " 19   DAYS_REGISTRATION             float64\n",
      " 20   DAYS_ID_PUBLISH               int64  \n",
      " 21   OWN_CAR_AGE                   float64\n",
      " 22   FLAG_MOBIL                    int64  \n",
      " 23   FLAG_EMP_PHONE                int64  \n",
      " 24   FLAG_WORK_PHONE               int64  \n",
      " 25   FLAG_CONT_MOBILE              int64  \n",
      " 26   FLAG_PHONE                    int64  \n",
      " 27   FLAG_EMAIL                    int64  \n",
      " 28   OCCUPATION_TYPE               object \n",
      " 29   CNT_FAM_MEMBERS               float64\n",
      " 30   REGION_RATING_CLIENT          int64  \n",
      " 31   REGION_RATING_CLIENT_W_CITY   int64  \n",
      " 32   WEEKDAY_APPR_PROCESS_START    object \n",
      " 33   HOUR_APPR_PROCESS_START       int64  \n",
      " 34   REG_REGION_NOT_LIVE_REGION    int64  \n",
      " 35   REG_REGION_NOT_WORK_REGION    int64  \n",
      " 36   LIVE_REGION_NOT_WORK_REGION   int64  \n",
      " 37   REG_CITY_NOT_LIVE_CITY        int64  \n",
      " 38   REG_CITY_NOT_WORK_CITY        int64  \n",
      " 39   LIVE_CITY_NOT_WORK_CITY       int64  \n",
      " 40   ORGANIZATION_TYPE             object \n",
      " 41   EXT_SOURCE_1                  float64\n",
      " 42   EXT_SOURCE_2                  float64\n",
      " 43   EXT_SOURCE_3                  float64\n",
      " 44   APARTMENTS_AVG                float64\n",
      " 45   BASEMENTAREA_AVG              float64\n",
      " 46   YEARS_BEGINEXPLUATATION_AVG   float64\n",
      " 47   YEARS_BUILD_AVG               float64\n",
      " 48   COMMONAREA_AVG                float64\n",
      " 49   ELEVATORS_AVG                 float64\n",
      " 50   ENTRANCES_AVG                 float64\n",
      " 51   FLOORSMAX_AVG                 float64\n",
      " 52   FLOORSMIN_AVG                 float64\n",
      " 53   LANDAREA_AVG                  float64\n",
      " 54   LIVINGAPARTMENTS_AVG          float64\n",
      " 55   LIVINGAREA_AVG                float64\n",
      " 56   NONLIVINGAPARTMENTS_AVG       float64\n",
      " 57   NONLIVINGAREA_AVG             float64\n",
      " 58   APARTMENTS_MODE               float64\n",
      " 59   BASEMENTAREA_MODE             float64\n",
      " 60   YEARS_BEGINEXPLUATATION_MODE  float64\n",
      " 61   YEARS_BUILD_MODE              float64\n",
      " 62   COMMONAREA_MODE               float64\n",
      " 63   ELEVATORS_MODE                float64\n",
      " 64   ENTRANCES_MODE                float64\n",
      " 65   FLOORSMAX_MODE                float64\n",
      " 66   FLOORSMIN_MODE                float64\n",
      " 67   LANDAREA_MODE                 float64\n",
      " 68   LIVINGAPARTMENTS_MODE         float64\n",
      " 69   LIVINGAREA_MODE               float64\n",
      " 70   NONLIVINGAPARTMENTS_MODE      float64\n",
      " 71   NONLIVINGAREA_MODE            float64\n",
      " 72   APARTMENTS_MEDI               float64\n",
      " 73   BASEMENTAREA_MEDI             float64\n",
      " 74   YEARS_BEGINEXPLUATATION_MEDI  float64\n",
      " 75   YEARS_BUILD_MEDI              float64\n",
      " 76   COMMONAREA_MEDI               float64\n",
      " 77   ELEVATORS_MEDI                float64\n",
      " 78   ENTRANCES_MEDI                float64\n",
      " 79   FLOORSMAX_MEDI                float64\n",
      " 80   FLOORSMIN_MEDI                float64\n",
      " 81   LANDAREA_MEDI                 float64\n",
      " 82   LIVINGAPARTMENTS_MEDI         float64\n",
      " 83   LIVINGAREA_MEDI               float64\n",
      " 84   NONLIVINGAPARTMENTS_MEDI      float64\n",
      " 85   NONLIVINGAREA_MEDI            float64\n",
      " 86   FONDKAPREMONT_MODE            object \n",
      " 87   HOUSETYPE_MODE                object \n",
      " 88   TOTALAREA_MODE                float64\n",
      " 89   WALLSMATERIAL_MODE            object \n",
      " 90   EMERGENCYSTATE_MODE           object \n",
      " 91   OBS_30_CNT_SOCIAL_CIRCLE      float64\n",
      " 92   DEF_30_CNT_SOCIAL_CIRCLE      float64\n",
      " 93   OBS_60_CNT_SOCIAL_CIRCLE      float64\n",
      " 94   DEF_60_CNT_SOCIAL_CIRCLE      float64\n",
      " 95   DAYS_LAST_PHONE_CHANGE        float64\n",
      " 96   FLAG_DOCUMENT_2               int64  \n",
      " 97   FLAG_DOCUMENT_3               int64  \n",
      " 98   FLAG_DOCUMENT_4               int64  \n",
      " 99   FLAG_DOCUMENT_5               int64  \n",
      " 100  FLAG_DOCUMENT_6               int64  \n",
      " 101  FLAG_DOCUMENT_7               int64  \n",
      " 102  FLAG_DOCUMENT_8               int64  \n",
      " 103  FLAG_DOCUMENT_9               int64  \n",
      " 104  FLAG_DOCUMENT_10              int64  \n",
      " 105  FLAG_DOCUMENT_11              int64  \n",
      " 106  FLAG_DOCUMENT_12              int64  \n",
      " 107  FLAG_DOCUMENT_13              int64  \n",
      " 108  FLAG_DOCUMENT_14              int64  \n",
      " 109  FLAG_DOCUMENT_15              int64  \n",
      " 110  FLAG_DOCUMENT_16              int64  \n",
      " 111  FLAG_DOCUMENT_17              int64  \n",
      " 112  FLAG_DOCUMENT_18              int64  \n",
      " 113  FLAG_DOCUMENT_19              int64  \n",
      " 114  FLAG_DOCUMENT_20              int64  \n",
      " 115  FLAG_DOCUMENT_21              int64  \n",
      " 116  AMT_REQ_CREDIT_BUREAU_HOUR    float64\n",
      " 117  AMT_REQ_CREDIT_BUREAU_DAY     float64\n",
      " 118  AMT_REQ_CREDIT_BUREAU_WEEK    float64\n",
      " 119  AMT_REQ_CREDIT_BUREAU_MON     float64\n",
      " 120  AMT_REQ_CREDIT_BUREAU_QRT     float64\n",
      " 121  AMT_REQ_CREDIT_BUREAU_YEAR    float64\n",
      "dtypes: float64(65), int64(41), object(16)\n",
      "memory usage: 286.2+ MB\n"
     ]
    }
   ],
   "source": [
    "# Getting information about the data type of columns and their count\n",
    "Bank_AppData_DF.info(verbose=True)"
   ]
  },
  {
   "cell_type": "code",
   "execution_count": 80,
   "metadata": {},
   "outputs": [
    {
     "name": "stdout",
     "output_type": "stream",
     "text": [
      "Numerical: 106 \n",
      "['SK_ID_CURR', 'TARGET', 'CNT_CHILDREN', 'AMT_INCOME_TOTAL', 'AMT_CREDIT', 'AMT_ANNUITY', 'AMT_GOODS_PRICE', 'REGION_POPULATION_RELATIVE', 'DAYS_BIRTH', 'DAYS_EMPLOYED', 'DAYS_REGISTRATION', 'DAYS_ID_PUBLISH', 'OWN_CAR_AGE', 'FLAG_MOBIL', 'FLAG_EMP_PHONE', 'FLAG_WORK_PHONE', 'FLAG_CONT_MOBILE', 'FLAG_PHONE', 'FLAG_EMAIL', 'CNT_FAM_MEMBERS', 'REGION_RATING_CLIENT', 'REGION_RATING_CLIENT_W_CITY', 'HOUR_APPR_PROCESS_START', 'REG_REGION_NOT_LIVE_REGION', 'REG_REGION_NOT_WORK_REGION', 'LIVE_REGION_NOT_WORK_REGION', 'REG_CITY_NOT_LIVE_CITY', 'REG_CITY_NOT_WORK_CITY', 'LIVE_CITY_NOT_WORK_CITY', 'EXT_SOURCE_1', 'EXT_SOURCE_2', 'EXT_SOURCE_3', 'APARTMENTS_AVG', 'BASEMENTAREA_AVG', 'YEARS_BEGINEXPLUATATION_AVG', 'YEARS_BUILD_AVG', 'COMMONAREA_AVG', 'ELEVATORS_AVG', 'ENTRANCES_AVG', 'FLOORSMAX_AVG', 'FLOORSMIN_AVG', 'LANDAREA_AVG', 'LIVINGAPARTMENTS_AVG', 'LIVINGAREA_AVG', 'NONLIVINGAPARTMENTS_AVG', 'NONLIVINGAREA_AVG', 'APARTMENTS_MODE', 'BASEMENTAREA_MODE', 'YEARS_BEGINEXPLUATATION_MODE', 'YEARS_BUILD_MODE', 'COMMONAREA_MODE', 'ELEVATORS_MODE', 'ENTRANCES_MODE', 'FLOORSMAX_MODE', 'FLOORSMIN_MODE', 'LANDAREA_MODE', 'LIVINGAPARTMENTS_MODE', 'LIVINGAREA_MODE', 'NONLIVINGAPARTMENTS_MODE', 'NONLIVINGAREA_MODE', 'APARTMENTS_MEDI', 'BASEMENTAREA_MEDI', 'YEARS_BEGINEXPLUATATION_MEDI', 'YEARS_BUILD_MEDI', 'COMMONAREA_MEDI', 'ELEVATORS_MEDI', 'ENTRANCES_MEDI', 'FLOORSMAX_MEDI', 'FLOORSMIN_MEDI', 'LANDAREA_MEDI', 'LIVINGAPARTMENTS_MEDI', 'LIVINGAREA_MEDI', 'NONLIVINGAPARTMENTS_MEDI', 'NONLIVINGAREA_MEDI', 'TOTALAREA_MODE', 'OBS_30_CNT_SOCIAL_CIRCLE', 'DEF_30_CNT_SOCIAL_CIRCLE', 'OBS_60_CNT_SOCIAL_CIRCLE', 'DEF_60_CNT_SOCIAL_CIRCLE', 'DAYS_LAST_PHONE_CHANGE', 'FLAG_DOCUMENT_2', 'FLAG_DOCUMENT_3', 'FLAG_DOCUMENT_4', 'FLAG_DOCUMENT_5', 'FLAG_DOCUMENT_6', 'FLAG_DOCUMENT_7', 'FLAG_DOCUMENT_8', 'FLAG_DOCUMENT_9', 'FLAG_DOCUMENT_10', 'FLAG_DOCUMENT_11', 'FLAG_DOCUMENT_12', 'FLAG_DOCUMENT_13', 'FLAG_DOCUMENT_14', 'FLAG_DOCUMENT_15', 'FLAG_DOCUMENT_16', 'FLAG_DOCUMENT_17', 'FLAG_DOCUMENT_18', 'FLAG_DOCUMENT_19', 'FLAG_DOCUMENT_20', 'FLAG_DOCUMENT_21', 'AMT_REQ_CREDIT_BUREAU_HOUR', 'AMT_REQ_CREDIT_BUREAU_DAY', 'AMT_REQ_CREDIT_BUREAU_WEEK', 'AMT_REQ_CREDIT_BUREAU_MON', 'AMT_REQ_CREDIT_BUREAU_QRT', 'AMT_REQ_CREDIT_BUREAU_YEAR']\n",
      "\n",
      "Categorical: 16\n",
      "['NAME_CONTRACT_TYPE', 'CODE_GENDER', 'FLAG_OWN_CAR', 'FLAG_OWN_REALTY', 'NAME_TYPE_SUITE', 'NAME_INCOME_TYPE', 'NAME_EDUCATION_TYPE', 'NAME_FAMILY_STATUS', 'NAME_HOUSING_TYPE', 'OCCUPATION_TYPE', 'WEEKDAY_APPR_PROCESS_START', 'ORGANIZATION_TYPE', 'FONDKAPREMONT_MODE', 'HOUSETYPE_MODE', 'WALLSMATERIAL_MODE', 'EMERGENCYSTATE_MODE']\n"
     ]
    }
   ],
   "source": [
    "# Details of Numerical and Categorical data\n",
    "\n",
    "#numericalTypeColumns---> holds list of columns that are Numerical\n",
    "#categorialTypeColumns---> holds list of columns that are Categorical\n",
    "\n",
    "numericalTypeColumns= Bank_AppData_DF.select_dtypes(include=np.number).columns.tolist()\n",
    "categorialTypeColumns= Bank_AppData_DF.select_dtypes(include=np.object).columns.tolist()\n",
    "print(f\"Numerical: {len(numericalTypeColumns)} \\n{numericalTypeColumns}\\n\\nCategorical: {len(categorialTypeColumns)}\\n{categorialTypeColumns}\")"
   ]
  },
  {
   "cell_type": "markdown",
   "metadata": {},
   "source": [
    "##### Application Data Cleanup"
   ]
  },
  {
   "cell_type": "code",
   "execution_count": 81,
   "metadata": {},
   "outputs": [],
   "source": [
    "nullCount=Bank_AppData_DF.isnull().sum()"
   ]
  },
  {
   "cell_type": "code",
   "execution_count": 82,
   "metadata": {},
   "outputs": [
    {
     "data": {
      "text/plain": [
       "SK_ID_CURR                     0.0\n",
       "TARGET                         0.0\n",
       "NAME_CONTRACT_TYPE             0.0\n",
       "CODE_GENDER                    0.0\n",
       "FLAG_OWN_CAR                   0.0\n",
       "                              ... \n",
       "AMT_REQ_CREDIT_BUREAU_DAY     13.5\n",
       "AMT_REQ_CREDIT_BUREAU_WEEK    13.5\n",
       "AMT_REQ_CREDIT_BUREAU_MON     13.5\n",
       "AMT_REQ_CREDIT_BUREAU_QRT     13.5\n",
       "AMT_REQ_CREDIT_BUREAU_YEAR    13.5\n",
       "Length: 122, dtype: float64"
      ]
     },
     "execution_count": 82,
     "metadata": {},
     "output_type": "execute_result"
    }
   ],
   "source": [
    "\n",
    "percentageOfNull= round((nullCount/Bank_AppData_DF.shape[0])*(100),2)\n",
    "percentageOfNull"
   ]
  },
  {
   "cell_type": "code",
   "execution_count": 83,
   "metadata": {},
   "outputs": [],
   "source": [
    "#totalColHavingNull---> number of columns having null values\n",
    "totalColHavingNull=len(Bank_AppData_DF.columns[Bank_AppData_DF.isnull().sum()>0])"
   ]
  },
  {
   "cell_type": "code",
   "execution_count": 84,
   "metadata": {},
   "outputs": [
    {
     "data": {
      "text/html": [
       "<div>\n",
       "<style scoped>\n",
       "    .dataframe tbody tr th:only-of-type {\n",
       "        vertical-align: middle;\n",
       "    }\n",
       "\n",
       "    .dataframe tbody tr th {\n",
       "        vertical-align: top;\n",
       "    }\n",
       "\n",
       "    .dataframe thead th {\n",
       "        text-align: right;\n",
       "    }\n",
       "</style>\n",
       "<table border=\"1\" class=\"dataframe\">\n",
       "  <thead>\n",
       "    <tr style=\"text-align: right;\">\n",
       "      <th></th>\n",
       "      <th>Columns</th>\n",
       "      <th>NullCount</th>\n",
       "      <th>Null %</th>\n",
       "    </tr>\n",
       "  </thead>\n",
       "  <tbody>\n",
       "    <tr>\n",
       "      <th>SK_ID_CURR</th>\n",
       "      <td>SK_ID_CURR</td>\n",
       "      <td>0</td>\n",
       "      <td>0.0</td>\n",
       "    </tr>\n",
       "    <tr>\n",
       "      <th>TARGET</th>\n",
       "      <td>TARGET</td>\n",
       "      <td>0</td>\n",
       "      <td>0.0</td>\n",
       "    </tr>\n",
       "    <tr>\n",
       "      <th>NAME_CONTRACT_TYPE</th>\n",
       "      <td>NAME_CONTRACT_TYPE</td>\n",
       "      <td>0</td>\n",
       "      <td>0.0</td>\n",
       "    </tr>\n",
       "    <tr>\n",
       "      <th>CODE_GENDER</th>\n",
       "      <td>CODE_GENDER</td>\n",
       "      <td>0</td>\n",
       "      <td>0.0</td>\n",
       "    </tr>\n",
       "    <tr>\n",
       "      <th>FLAG_OWN_CAR</th>\n",
       "      <td>FLAG_OWN_CAR</td>\n",
       "      <td>0</td>\n",
       "      <td>0.0</td>\n",
       "    </tr>\n",
       "    <tr>\n",
       "      <th>...</th>\n",
       "      <td>...</td>\n",
       "      <td>...</td>\n",
       "      <td>...</td>\n",
       "    </tr>\n",
       "    <tr>\n",
       "      <th>AMT_REQ_CREDIT_BUREAU_DAY</th>\n",
       "      <td>AMT_REQ_CREDIT_BUREAU_DAY</td>\n",
       "      <td>41519</td>\n",
       "      <td>13.5</td>\n",
       "    </tr>\n",
       "    <tr>\n",
       "      <th>AMT_REQ_CREDIT_BUREAU_WEEK</th>\n",
       "      <td>AMT_REQ_CREDIT_BUREAU_WEEK</td>\n",
       "      <td>41519</td>\n",
       "      <td>13.5</td>\n",
       "    </tr>\n",
       "    <tr>\n",
       "      <th>AMT_REQ_CREDIT_BUREAU_MON</th>\n",
       "      <td>AMT_REQ_CREDIT_BUREAU_MON</td>\n",
       "      <td>41519</td>\n",
       "      <td>13.5</td>\n",
       "    </tr>\n",
       "    <tr>\n",
       "      <th>AMT_REQ_CREDIT_BUREAU_QRT</th>\n",
       "      <td>AMT_REQ_CREDIT_BUREAU_QRT</td>\n",
       "      <td>41519</td>\n",
       "      <td>13.5</td>\n",
       "    </tr>\n",
       "    <tr>\n",
       "      <th>AMT_REQ_CREDIT_BUREAU_YEAR</th>\n",
       "      <td>AMT_REQ_CREDIT_BUREAU_YEAR</td>\n",
       "      <td>41519</td>\n",
       "      <td>13.5</td>\n",
       "    </tr>\n",
       "  </tbody>\n",
       "</table>\n",
       "<p>122 rows × 3 columns</p>\n",
       "</div>"
      ],
      "text/plain": [
       "                                               Columns  NullCount  Null %\n",
       "SK_ID_CURR                                  SK_ID_CURR          0     0.0\n",
       "TARGET                                          TARGET          0     0.0\n",
       "NAME_CONTRACT_TYPE                  NAME_CONTRACT_TYPE          0     0.0\n",
       "CODE_GENDER                                CODE_GENDER          0     0.0\n",
       "FLAG_OWN_CAR                              FLAG_OWN_CAR          0     0.0\n",
       "...                                                ...        ...     ...\n",
       "AMT_REQ_CREDIT_BUREAU_DAY    AMT_REQ_CREDIT_BUREAU_DAY      41519    13.5\n",
       "AMT_REQ_CREDIT_BUREAU_WEEK  AMT_REQ_CREDIT_BUREAU_WEEK      41519    13.5\n",
       "AMT_REQ_CREDIT_BUREAU_MON    AMT_REQ_CREDIT_BUREAU_MON      41519    13.5\n",
       "AMT_REQ_CREDIT_BUREAU_QRT    AMT_REQ_CREDIT_BUREAU_QRT      41519    13.5\n",
       "AMT_REQ_CREDIT_BUREAU_YEAR  AMT_REQ_CREDIT_BUREAU_YEAR      41519    13.5\n",
       "\n",
       "[122 rows x 3 columns]"
      ]
     },
     "execution_count": 84,
     "metadata": {},
     "output_type": "execute_result"
    }
   ],
   "source": [
    "# for better understanding the null count and its percentage, creating a separate data frame\n",
    "nullInfoDataFrame= pd.DataFrame({'Columns':Bank_AppData_DF.columns ,'NullCount':nullCount,'Null %':percentageOfNull})\n",
    "nullInfoDataFrame"
   ]
  },
  {
   "cell_type": "code",
   "execution_count": 85,
   "metadata": {},
   "outputs": [
    {
     "data": {
      "text/html": [
       "<div>\n",
       "<style scoped>\n",
       "    .dataframe tbody tr th:only-of-type {\n",
       "        vertical-align: middle;\n",
       "    }\n",
       "\n",
       "    .dataframe tbody tr th {\n",
       "        vertical-align: top;\n",
       "    }\n",
       "\n",
       "    .dataframe thead th {\n",
       "        text-align: right;\n",
       "    }\n",
       "</style>\n",
       "<table border=\"1\" class=\"dataframe\">\n",
       "  <thead>\n",
       "    <tr style=\"text-align: right;\">\n",
       "      <th></th>\n",
       "      <th>Columns</th>\n",
       "      <th>NullCount</th>\n",
       "      <th>Null %</th>\n",
       "    </tr>\n",
       "  </thead>\n",
       "  <tbody>\n",
       "    <tr>\n",
       "      <th>0</th>\n",
       "      <td>SK_ID_CURR</td>\n",
       "      <td>0</td>\n",
       "      <td>0.0</td>\n",
       "    </tr>\n",
       "    <tr>\n",
       "      <th>1</th>\n",
       "      <td>TARGET</td>\n",
       "      <td>0</td>\n",
       "      <td>0.0</td>\n",
       "    </tr>\n",
       "    <tr>\n",
       "      <th>2</th>\n",
       "      <td>NAME_CONTRACT_TYPE</td>\n",
       "      <td>0</td>\n",
       "      <td>0.0</td>\n",
       "    </tr>\n",
       "    <tr>\n",
       "      <th>3</th>\n",
       "      <td>CODE_GENDER</td>\n",
       "      <td>0</td>\n",
       "      <td>0.0</td>\n",
       "    </tr>\n",
       "    <tr>\n",
       "      <th>4</th>\n",
       "      <td>FLAG_OWN_CAR</td>\n",
       "      <td>0</td>\n",
       "      <td>0.0</td>\n",
       "    </tr>\n",
       "    <tr>\n",
       "      <th>...</th>\n",
       "      <td>...</td>\n",
       "      <td>...</td>\n",
       "      <td>...</td>\n",
       "    </tr>\n",
       "    <tr>\n",
       "      <th>117</th>\n",
       "      <td>AMT_REQ_CREDIT_BUREAU_DAY</td>\n",
       "      <td>41519</td>\n",
       "      <td>13.5</td>\n",
       "    </tr>\n",
       "    <tr>\n",
       "      <th>118</th>\n",
       "      <td>AMT_REQ_CREDIT_BUREAU_WEEK</td>\n",
       "      <td>41519</td>\n",
       "      <td>13.5</td>\n",
       "    </tr>\n",
       "    <tr>\n",
       "      <th>119</th>\n",
       "      <td>AMT_REQ_CREDIT_BUREAU_MON</td>\n",
       "      <td>41519</td>\n",
       "      <td>13.5</td>\n",
       "    </tr>\n",
       "    <tr>\n",
       "      <th>120</th>\n",
       "      <td>AMT_REQ_CREDIT_BUREAU_QRT</td>\n",
       "      <td>41519</td>\n",
       "      <td>13.5</td>\n",
       "    </tr>\n",
       "    <tr>\n",
       "      <th>121</th>\n",
       "      <td>AMT_REQ_CREDIT_BUREAU_YEAR</td>\n",
       "      <td>41519</td>\n",
       "      <td>13.5</td>\n",
       "    </tr>\n",
       "  </tbody>\n",
       "</table>\n",
       "<p>122 rows × 3 columns</p>\n",
       "</div>"
      ],
      "text/plain": [
       "                        Columns  NullCount  Null %\n",
       "0                    SK_ID_CURR          0     0.0\n",
       "1                        TARGET          0     0.0\n",
       "2            NAME_CONTRACT_TYPE          0     0.0\n",
       "3                   CODE_GENDER          0     0.0\n",
       "4                  FLAG_OWN_CAR          0     0.0\n",
       "..                          ...        ...     ...\n",
       "117   AMT_REQ_CREDIT_BUREAU_DAY      41519    13.5\n",
       "118  AMT_REQ_CREDIT_BUREAU_WEEK      41519    13.5\n",
       "119   AMT_REQ_CREDIT_BUREAU_MON      41519    13.5\n",
       "120   AMT_REQ_CREDIT_BUREAU_QRT      41519    13.5\n",
       "121  AMT_REQ_CREDIT_BUREAU_YEAR      41519    13.5\n",
       "\n",
       "[122 rows x 3 columns]"
      ]
     },
     "execution_count": 85,
     "metadata": {},
     "output_type": "execute_result"
    }
   ],
   "source": [
    "# fixed the index, as it was showing the columns again\n",
    "nullInfoDataFrame.reset_index(drop=True,inplace=True)\n",
    "nullInfoDataFrame"
   ]
  },
  {
   "cell_type": "code",
   "execution_count": 86,
   "metadata": {},
   "outputs": [
    {
     "data": {
      "text/plain": [
       "69.87"
      ]
     },
     "execution_count": 86,
     "metadata": {},
     "output_type": "execute_result"
    }
   ],
   "source": [
    "# max(percentage of null values)\n",
    "max(nullInfoDataFrame['Null %'])"
   ]
  },
  {
   "cell_type": "markdown",
   "metadata": {},
   "source": [
    "###### Setting Threshold for dropping columns which are having percentage of nulls greater than threshold"
   ]
  },
  {
   "cell_type": "code",
   "execution_count": 87,
   "metadata": {},
   "outputs": [],
   "source": [
    "# max percentage of null value is around 70%, so we can set our threshold to 40% for deleting the null values\n",
    "Threshold= 40"
   ]
  },
  {
   "cell_type": "code",
   "execution_count": 88,
   "metadata": {},
   "outputs": [
    {
     "data": {
      "text/plain": [
       "49"
      ]
     },
     "execution_count": 88,
     "metadata": {},
     "output_type": "execute_result"
    }
   ],
   "source": [
    "# list of columsn to be deleted that are haivng null percentage greater than threshold\n",
    "deleteColumns= nullInfoDataFrame[nullInfoDataFrame['Null %']>Threshold]['Columns'].tolist()\n",
    "len(deleteColumns)"
   ]
  },
  {
   "cell_type": "code",
   "execution_count": 89,
   "metadata": {},
   "outputs": [],
   "source": [
    "# deleting the columns which with respect to threshold\n",
    "Bank_AppData_DF.drop(columns=deleteColumns,inplace=True)"
   ]
  },
  {
   "cell_type": "code",
   "execution_count": 90,
   "metadata": {},
   "outputs": [
    {
     "data": {
      "text/plain": [
       "(307511, 73)"
      ]
     },
     "execution_count": 90,
     "metadata": {},
     "output_type": "execute_result"
    }
   ],
   "source": [
    "Bank_AppData_DF.shape"
   ]
  },
  {
   "cell_type": "code",
   "execution_count": 91,
   "metadata": {},
   "outputs": [],
   "source": [
    "# Finding out data with null percentage less than threshold\n",
    "nullInfoDfLessThanThreshold= nullInfoDataFrame[nullInfoDataFrame['Null %']<Threshold]"
   ]
  },
  {
   "cell_type": "code",
   "execution_count": 92,
   "metadata": {},
   "outputs": [
    {
     "data": {
      "text/html": [
       "<div>\n",
       "<style scoped>\n",
       "    .dataframe tbody tr th:only-of-type {\n",
       "        vertical-align: middle;\n",
       "    }\n",
       "\n",
       "    .dataframe tbody tr th {\n",
       "        vertical-align: top;\n",
       "    }\n",
       "\n",
       "    .dataframe thead th {\n",
       "        text-align: right;\n",
       "    }\n",
       "</style>\n",
       "<table border=\"1\" class=\"dataframe\">\n",
       "  <thead>\n",
       "    <tr style=\"text-align: right;\">\n",
       "      <th></th>\n",
       "      <th>Columns</th>\n",
       "      <th>NullCount</th>\n",
       "      <th>Null %</th>\n",
       "    </tr>\n",
       "  </thead>\n",
       "  <tbody>\n",
       "    <tr>\n",
       "      <th>28</th>\n",
       "      <td>OCCUPATION_TYPE</td>\n",
       "      <td>96391</td>\n",
       "      <td>31.35</td>\n",
       "    </tr>\n",
       "    <tr>\n",
       "      <th>43</th>\n",
       "      <td>EXT_SOURCE_3</td>\n",
       "      <td>60965</td>\n",
       "      <td>19.83</td>\n",
       "    </tr>\n",
       "    <tr>\n",
       "      <th>121</th>\n",
       "      <td>AMT_REQ_CREDIT_BUREAU_YEAR</td>\n",
       "      <td>41519</td>\n",
       "      <td>13.50</td>\n",
       "    </tr>\n",
       "    <tr>\n",
       "      <th>120</th>\n",
       "      <td>AMT_REQ_CREDIT_BUREAU_QRT</td>\n",
       "      <td>41519</td>\n",
       "      <td>13.50</td>\n",
       "    </tr>\n",
       "    <tr>\n",
       "      <th>119</th>\n",
       "      <td>AMT_REQ_CREDIT_BUREAU_MON</td>\n",
       "      <td>41519</td>\n",
       "      <td>13.50</td>\n",
       "    </tr>\n",
       "    <tr>\n",
       "      <th>...</th>\n",
       "      <td>...</td>\n",
       "      <td>...</td>\n",
       "      <td>...</td>\n",
       "    </tr>\n",
       "    <tr>\n",
       "      <th>33</th>\n",
       "      <td>HOUR_APPR_PROCESS_START</td>\n",
       "      <td>0</td>\n",
       "      <td>0.00</td>\n",
       "    </tr>\n",
       "    <tr>\n",
       "      <th>34</th>\n",
       "      <td>REG_REGION_NOT_LIVE_REGION</td>\n",
       "      <td>0</td>\n",
       "      <td>0.00</td>\n",
       "    </tr>\n",
       "    <tr>\n",
       "      <th>35</th>\n",
       "      <td>REG_REGION_NOT_WORK_REGION</td>\n",
       "      <td>0</td>\n",
       "      <td>0.00</td>\n",
       "    </tr>\n",
       "    <tr>\n",
       "      <th>36</th>\n",
       "      <td>LIVE_REGION_NOT_WORK_REGION</td>\n",
       "      <td>0</td>\n",
       "      <td>0.00</td>\n",
       "    </tr>\n",
       "    <tr>\n",
       "      <th>37</th>\n",
       "      <td>REG_CITY_NOT_LIVE_CITY</td>\n",
       "      <td>0</td>\n",
       "      <td>0.00</td>\n",
       "    </tr>\n",
       "  </tbody>\n",
       "</table>\n",
       "<p>73 rows × 3 columns</p>\n",
       "</div>"
      ],
      "text/plain": [
       "                         Columns  NullCount  Null %\n",
       "28               OCCUPATION_TYPE      96391   31.35\n",
       "43                  EXT_SOURCE_3      60965   19.83\n",
       "121   AMT_REQ_CREDIT_BUREAU_YEAR      41519   13.50\n",
       "120    AMT_REQ_CREDIT_BUREAU_QRT      41519   13.50\n",
       "119    AMT_REQ_CREDIT_BUREAU_MON      41519   13.50\n",
       "..                           ...        ...     ...\n",
       "33       HOUR_APPR_PROCESS_START          0    0.00\n",
       "34    REG_REGION_NOT_LIVE_REGION          0    0.00\n",
       "35    REG_REGION_NOT_WORK_REGION          0    0.00\n",
       "36   LIVE_REGION_NOT_WORK_REGION          0    0.00\n",
       "37        REG_CITY_NOT_LIVE_CITY          0    0.00\n",
       "\n",
       "[73 rows x 3 columns]"
      ]
     },
     "execution_count": 92,
     "metadata": {},
     "output_type": "execute_result"
    }
   ],
   "source": [
    "nullInfoDfLessThanThreshold.sort_values(ascending=False, by='Null %')"
   ]
  },
  {
   "cell_type": "markdown",
   "metadata": {},
   "source": [
    "### Dealing with the columns having null Values/Percentage, in decreasing order"
   ]
  },
  {
   "cell_type": "markdown",
   "metadata": {},
   "source": [
    "##### 1. OCCUPATION_TYPE ---- 31.35% null values"
   ]
  },
  {
   "cell_type": "code",
   "execution_count": 93,
   "metadata": {},
   "outputs": [
    {
     "data": {
      "text/plain": [
       "'Categorical'"
      ]
     },
     "execution_count": 93,
     "metadata": {},
     "output_type": "execute_result"
    }
   ],
   "source": [
    "# finding out if OCCUPATION_TYPE' is categorical or numerical\n",
    "OCCUPATION_TYPE_Type= 'Categorical' if 'OCCUPATION_TYPE' in categorialTypeColumns else 'Numerical'\n",
    "OCCUPATION_TYPE_Type"
   ]
  },
  {
   "cell_type": "code",
   "execution_count": 94,
   "metadata": {},
   "outputs": [
    {
     "data": {
      "text/plain": [
       "Laborers                 55186\n",
       "Sales staff              32102\n",
       "Core staff               27570\n",
       "Managers                 21371\n",
       "Drivers                  18603\n",
       "High skill tech staff    11380\n",
       "Accountants               9813\n",
       "Medicine staff            8537\n",
       "Security staff            6721\n",
       "Cooking staff             5946\n",
       "Cleaning staff            4653\n",
       "Private service staff     2652\n",
       "Low-skill Laborers        2093\n",
       "Waiters/barmen staff      1348\n",
       "Secretaries               1305\n",
       "Realty agents              751\n",
       "HR staff                   563\n",
       "IT staff                   526\n",
       "Name: OCCUPATION_TYPE, dtype: int64"
      ]
     },
     "execution_count": 94,
     "metadata": {},
     "output_type": "execute_result"
    }
   ],
   "source": [
    "Bank_AppData_DF['OCCUPATION_TYPE'].value_counts()"
   ]
  },
  {
   "cell_type": "code",
   "execution_count": 95,
   "metadata": {},
   "outputs": [
    {
     "data": {
      "image/png": "[encoded data removed]",
      "text/plain": [
       "<Figure size 1008x432 with 1 Axes>"
      ]
     },
     "metadata": {
      "needs_background": "light"
     },
     "output_type": "display_data"
    }
   ],
   "source": [
    "plt.figure(figsize=(14,6))\n",
    "sns.countplot(data=Bank_AppData_DF,x='OCCUPATION_TYPE')\n",
    "plt.xticks(rotation =90)\n",
    "plt.show()"
   ]
  },
  {
   "cell_type": "markdown",
   "metadata": {},
   "source": [
    "Comment: \n",
    "Out of all other Occupation Type, Labours are the highest loan applicants.\n",
    "Our null percentage for Occupation Type is qutie high, so cant perform data imputation\n"
   ]
  },
  {
   "cell_type": "markdown",
   "metadata": {},
   "source": [
    "##### 2. EXT_SOURCE_3 ---- 19.83% null values"
   ]
  },
  {
   "cell_type": "code",
   "execution_count": 96,
   "metadata": {},
   "outputs": [
    {
     "data": {
      "text/plain": [
       "'Numerical'"
      ]
     },
     "execution_count": 96,
     "metadata": {},
     "output_type": "execute_result"
    }
   ],
   "source": [
    "# Check if EXT_SOURCE_3 categorical or numerical\n",
    "EXT_SOURCE_3_Type ='Categorical' if 'EXT_SOURCE_3' in categorialTypeColumns else 'Numerical'\n",
    "EXT_SOURCE_3_Type"
   ]
  },
  {
   "cell_type": "code",
   "execution_count": 97,
   "metadata": {},
   "outputs": [
    {
     "data": {
      "text/plain": [
       "count    246546.000000\n",
       "mean          0.510853\n",
       "std           0.194844\n",
       "min           0.000527\n",
       "25%           0.370650\n",
       "50%           0.535276\n",
       "75%           0.669057\n",
       "max           0.896010\n",
       "Name: EXT_SOURCE_3, dtype: float64"
      ]
     },
     "execution_count": 97,
     "metadata": {},
     "output_type": "execute_result"
    }
   ],
   "source": [
    "Bank_AppData_DF['EXT_SOURCE_3'].describe()"
   ]
  },
  {
   "cell_type": "code",
   "execution_count": 98,
   "metadata": {},
   "outputs": [
    {
     "data": {
      "text/plain": [
       "<AxesSubplot:xlabel='EXT_SOURCE_3'>"
      ]
     },
     "execution_count": 98,
     "metadata": {},
     "output_type": "execute_result"
    },
    {
     "data": {
      "image/png": "[encoded data removed]",
      "text/plain": [
       "<Figure size 432x288 with 1 Axes>"
      ]
     },
     "metadata": {
      "needs_background": "light"
     },
     "output_type": "display_data"
    }
   ],
   "source": [
    "sns.boxplot(data=Bank_AppData_DF, x='EXT_SOURCE_3',orient='v')"
   ]
  },
  {
   "cell_type": "markdown",
   "metadata": {},
   "source": [
    "- Comment: \n",
    "\n",
    "    * No outliers\n",
    "    * Null percentage is also high, so we can avoid performing imputation for EXT_SOURCE_3."
   ]
  },
  {
   "cell_type": "markdown",
   "metadata": {},
   "source": [
    "##### 3. Columns With ---- 13.00% null values"
   ]
  },
  {
   "cell_type": "markdown",
   "metadata": {},
   "source": [
    "- Columns\n",
    "    * AMT_REQ_CREDIT_BUREAU_HOUR\n",
    "    * AMT_REQ_CREDIT_BUREAU_DAY\n",
    "    * AMT_REQ_CREDIT_BUREAU_WEEK\n",
    "    * AMT_REQ_CREDIT_BUREAU_MON\n",
    "    * AMT_REQ_CREDIT_BUREAU_QRT\n",
    "    * AMT_REQ_CREDIT_BUREAU_YEAR"
   ]
  },
  {
   "cell_type": "code",
   "execution_count": 99,
   "metadata": {},
   "outputs": [
    {
     "data": {
      "text/html": [
       "<div>\n",
       "<style scoped>\n",
       "    .dataframe tbody tr th:only-of-type {\n",
       "        vertical-align: middle;\n",
       "    }\n",
       "\n",
       "    .dataframe tbody tr th {\n",
       "        vertical-align: top;\n",
       "    }\n",
       "\n",
       "    .dataframe thead th {\n",
       "        text-align: right;\n",
       "    }\n",
       "</style>\n",
       "<table border=\"1\" class=\"dataframe\">\n",
       "  <thead>\n",
       "    <tr style=\"text-align: right;\">\n",
       "      <th></th>\n",
       "      <th>AMT_REQ_CREDIT_BUREAU_HOUR</th>\n",
       "      <th>AMT_REQ_CREDIT_BUREAU_DAY</th>\n",
       "      <th>AMT_REQ_CREDIT_BUREAU_WEEK</th>\n",
       "      <th>AMT_REQ_CREDIT_BUREAU_MON</th>\n",
       "      <th>AMT_REQ_CREDIT_BUREAU_QRT</th>\n",
       "      <th>AMT_REQ_CREDIT_BUREAU_YEAR</th>\n",
       "    </tr>\n",
       "  </thead>\n",
       "  <tbody>\n",
       "    <tr>\n",
       "      <th>count</th>\n",
       "      <td>265992.000000</td>\n",
       "      <td>265992.000000</td>\n",
       "      <td>265992.000000</td>\n",
       "      <td>265992.000000</td>\n",
       "      <td>265992.000000</td>\n",
       "      <td>265992.000000</td>\n",
       "    </tr>\n",
       "    <tr>\n",
       "      <th>mean</th>\n",
       "      <td>0.006402</td>\n",
       "      <td>0.007000</td>\n",
       "      <td>0.034362</td>\n",
       "      <td>0.267395</td>\n",
       "      <td>0.265474</td>\n",
       "      <td>1.899974</td>\n",
       "    </tr>\n",
       "    <tr>\n",
       "      <th>std</th>\n",
       "      <td>0.083849</td>\n",
       "      <td>0.110757</td>\n",
       "      <td>0.204685</td>\n",
       "      <td>0.916002</td>\n",
       "      <td>0.794056</td>\n",
       "      <td>1.869295</td>\n",
       "    </tr>\n",
       "    <tr>\n",
       "      <th>min</th>\n",
       "      <td>0.000000</td>\n",
       "      <td>0.000000</td>\n",
       "      <td>0.000000</td>\n",
       "      <td>0.000000</td>\n",
       "      <td>0.000000</td>\n",
       "      <td>0.000000</td>\n",
       "    </tr>\n",
       "    <tr>\n",
       "      <th>25%</th>\n",
       "      <td>0.000000</td>\n",
       "      <td>0.000000</td>\n",
       "      <td>0.000000</td>\n",
       "      <td>0.000000</td>\n",
       "      <td>0.000000</td>\n",
       "      <td>0.000000</td>\n",
       "    </tr>\n",
       "    <tr>\n",
       "      <th>50%</th>\n",
       "      <td>0.000000</td>\n",
       "      <td>0.000000</td>\n",
       "      <td>0.000000</td>\n",
       "      <td>0.000000</td>\n",
       "      <td>0.000000</td>\n",
       "      <td>1.000000</td>\n",
       "    </tr>\n",
       "    <tr>\n",
       "      <th>75%</th>\n",
       "      <td>0.000000</td>\n",
       "      <td>0.000000</td>\n",
       "      <td>0.000000</td>\n",
       "      <td>0.000000</td>\n",
       "      <td>0.000000</td>\n",
       "      <td>3.000000</td>\n",
       "    </tr>\n",
       "    <tr>\n",
       "      <th>max</th>\n",
       "      <td>4.000000</td>\n",
       "      <td>9.000000</td>\n",
       "      <td>8.000000</td>\n",
       "      <td>27.000000</td>\n",
       "      <td>261.000000</td>\n",
       "      <td>25.000000</td>\n",
       "    </tr>\n",
       "  </tbody>\n",
       "</table>\n",
       "</div>"
      ],
      "text/plain": [
       "       AMT_REQ_CREDIT_BUREAU_HOUR  AMT_REQ_CREDIT_BUREAU_DAY  \\\n",
       "count               265992.000000              265992.000000   \n",
       "mean                     0.006402                   0.007000   \n",
       "std                      0.083849                   0.110757   \n",
       "min                      0.000000                   0.000000   \n",
       "25%                      0.000000                   0.000000   \n",
       "50%                      0.000000                   0.000000   \n",
       "75%                      0.000000                   0.000000   \n",
       "max                      4.000000                   9.000000   \n",
       "\n",
       "       AMT_REQ_CREDIT_BUREAU_WEEK  AMT_REQ_CREDIT_BUREAU_MON  \\\n",
       "count               265992.000000              265992.000000   \n",
       "mean                     0.034362                   0.267395   \n",
       "std                      0.204685                   0.916002   \n",
       "min                      0.000000                   0.000000   \n",
       "25%                      0.000000                   0.000000   \n",
       "50%                      0.000000                   0.000000   \n",
       "75%                      0.000000                   0.000000   \n",
       "max                      8.000000                  27.000000   \n",
       "\n",
       "       AMT_REQ_CREDIT_BUREAU_QRT  AMT_REQ_CREDIT_BUREAU_YEAR  \n",
       "count              265992.000000               265992.000000  \n",
       "mean                    0.265474                    1.899974  \n",
       "std                     0.794056                    1.869295  \n",
       "min                     0.000000                    0.000000  \n",
       "25%                     0.000000                    0.000000  \n",
       "50%                     0.000000                    1.000000  \n",
       "75%                     0.000000                    3.000000  \n",
       "max                   261.000000                   25.000000  "
      ]
     },
     "execution_count": 99,
     "metadata": {},
     "output_type": "execute_result"
    }
   ],
   "source": [
    "# Still null percentage is high for below columns, so we are not going to impute the data.\n",
    "Bank_AppData_DF[['AMT_REQ_CREDIT_BUREAU_HOUR','AMT_REQ_CREDIT_BUREAU_DAY','AMT_REQ_CREDIT_BUREAU_WEEK','AMT_REQ_CREDIT_BUREAU_MON', 'AMT_REQ_CREDIT_BUREAU_QRT', 'AMT_REQ_CREDIT_BUREAU_YEAR']].describe()"
   ]
  },
  {
   "cell_type": "code",
   "execution_count": 100,
   "metadata": {},
   "outputs": [
    {
     "data": {
      "text/html": [
       "<div>\n",
       "<style scoped>\n",
       "    .dataframe tbody tr th:only-of-type {\n",
       "        vertical-align: middle;\n",
       "    }\n",
       "\n",
       "    .dataframe tbody tr th {\n",
       "        vertical-align: top;\n",
       "    }\n",
       "\n",
       "    .dataframe thead th {\n",
       "        text-align: right;\n",
       "    }\n",
       "</style>\n",
       "<table border=\"1\" class=\"dataframe\">\n",
       "  <thead>\n",
       "    <tr style=\"text-align: right;\">\n",
       "      <th></th>\n",
       "      <th>Columns</th>\n",
       "      <th>NullCount</th>\n",
       "      <th>Null %</th>\n",
       "    </tr>\n",
       "  </thead>\n",
       "  <tbody>\n",
       "    <tr>\n",
       "      <th>11</th>\n",
       "      <td>NAME_TYPE_SUITE</td>\n",
       "      <td>1292</td>\n",
       "      <td>0.42</td>\n",
       "    </tr>\n",
       "    <tr>\n",
       "      <th>91</th>\n",
       "      <td>OBS_30_CNT_SOCIAL_CIRCLE</td>\n",
       "      <td>1021</td>\n",
       "      <td>0.33</td>\n",
       "    </tr>\n",
       "    <tr>\n",
       "      <th>92</th>\n",
       "      <td>DEF_30_CNT_SOCIAL_CIRCLE</td>\n",
       "      <td>1021</td>\n",
       "      <td>0.33</td>\n",
       "    </tr>\n",
       "    <tr>\n",
       "      <th>93</th>\n",
       "      <td>OBS_60_CNT_SOCIAL_CIRCLE</td>\n",
       "      <td>1021</td>\n",
       "      <td>0.33</td>\n",
       "    </tr>\n",
       "    <tr>\n",
       "      <th>94</th>\n",
       "      <td>DEF_60_CNT_SOCIAL_CIRCLE</td>\n",
       "      <td>1021</td>\n",
       "      <td>0.33</td>\n",
       "    </tr>\n",
       "    <tr>\n",
       "      <th>42</th>\n",
       "      <td>EXT_SOURCE_2</td>\n",
       "      <td>660</td>\n",
       "      <td>0.21</td>\n",
       "    </tr>\n",
       "    <tr>\n",
       "      <th>10</th>\n",
       "      <td>AMT_GOODS_PRICE</td>\n",
       "      <td>278</td>\n",
       "      <td>0.09</td>\n",
       "    </tr>\n",
       "  </tbody>\n",
       "</table>\n",
       "</div>"
      ],
      "text/plain": [
       "                     Columns  NullCount  Null %\n",
       "11           NAME_TYPE_SUITE       1292    0.42\n",
       "91  OBS_30_CNT_SOCIAL_CIRCLE       1021    0.33\n",
       "92  DEF_30_CNT_SOCIAL_CIRCLE       1021    0.33\n",
       "93  OBS_60_CNT_SOCIAL_CIRCLE       1021    0.33\n",
       "94  DEF_60_CNT_SOCIAL_CIRCLE       1021    0.33\n",
       "42              EXT_SOURCE_2        660    0.21\n",
       "10           AMT_GOODS_PRICE        278    0.09"
      ]
     },
     "execution_count": 100,
     "metadata": {},
     "output_type": "execute_result"
    }
   ],
   "source": [
    "\"\"\"EXT_SOURCE_2,DEF_60_CNT_SOCIAL_CIRCLE,OBS_60_CNT_SOCIAL_CIRCLE,OBS_30_CNT_SOCIAL_CIRCLE,DEF_30_CNT_SOCIAL_CIRCLE,AMT_REQ_CREDIT_BUREAU_YEAR,NAME_TYPE_SUITE\n",
    "These columns are having null percentage between 0 and 1. So imputation of data is possible.\"\"\"\n",
    "\n",
    "nullInfoDfLessThanOnePercent= nullInfoDataFrame[(nullInfoDataFrame['Null %']>0) & (nullInfoDataFrame['Null %']<1)]\n",
    "nullInfoDfLessThanOnePercent.sort_values(by='Null %', ascending=False)"
   ]
  },
  {
   "cell_type": "code",
   "execution_count": 101,
   "metadata": {},
   "outputs": [
    {
     "name": "stdout",
     "output_type": "stream",
     "text": [
      "NAME_TYPE_SUITE : Categorical\n",
      "OBS_30_CNT_SOCIAL_CIRCLE : Numerical\n",
      "DEF_30_CNT_SOCIAL_CIRCLE : Numerical\n",
      "OBS_60_CNT_SOCIAL_CIRCLE : Numerical\n",
      "DEF_60_CNT_SOCIAL_CIRCLE : Numerical\n",
      "EXT_SOURCE_2 : Numerical\n",
      "AMT_GOODS_PRICE : Numerical\n"
     ]
    }
   ],
   "source": [
    "# Checking the type of Variable ---- Numerical or Categorical. Accordingly visualizations can be used\n",
    "\n",
    "col_Min_Null_Percentage= nullInfoDfLessThanOnePercent.sort_values(by='Null %', ascending=False)['Columns'].tolist()\n",
    "\n",
    "for i in col_Min_Null_Percentage:\n",
    "    if i in categorialTypeColumns:\n",
    "        print(i,':','Categorical')\n",
    "    else:\n",
    "        print(i,':','Numerical')\n"
   ]
  },
  {
   "cell_type": "markdown",
   "metadata": {},
   "source": [
    "#### 4. Analysis for NAME_TYPE_SUITE"
   ]
  },
  {
   "cell_type": "code",
   "execution_count": 102,
   "metadata": {},
   "outputs": [
    {
     "data": {
      "text/plain": [
       "Unaccompanied      248526\n",
       "Family              40149\n",
       "Spouse, partner     11370\n",
       "Children             3267\n",
       "Other_B              1770\n",
       "Other_A               866\n",
       "Group of people       271\n",
       "Name: NAME_TYPE_SUITE, dtype: int64"
      ]
     },
     "execution_count": 102,
     "metadata": {},
     "output_type": "execute_result"
    }
   ],
   "source": [
    "# checking values of Name type suite\n",
    "Bank_AppData_DF['NAME_TYPE_SUITE'].value_counts()"
   ]
  },
  {
   "cell_type": "code",
   "execution_count": 103,
   "metadata": {},
   "outputs": [
    {
     "data": {
      "image/png": "[encoded data removed]",
      "text/plain": [
       "<Figure size 720x432 with 1 Axes>"
      ]
     },
     "metadata": {
      "needs_background": "light"
     },
     "output_type": "display_data"
    }
   ],
   "source": [
    "#Visualizing the above value count using count plot.\n",
    "plt.figure(figsize=(10,6))\n",
    "sns.countplot(Bank_AppData_DF['NAME_TYPE_SUITE'])\n",
    "plt.show()"
   ]
  },
  {
   "cell_type": "markdown",
   "metadata": {},
   "source": [
    "**From above count plot:**\n",
    "1. Unaccompanied are the max number of people who can act as a guaranteer for loan application.\n",
    "2. Family, Spouse,Partner and Children are the least favourable choices as an guaranteer.\n"
   ]
  },
  {
   "cell_type": "markdown",
   "metadata": {},
   "source": [
    "#### 5. Analysis for OBS_30_CNT_SOCIAL_CIRCLE"
   ]
  },
  {
   "cell_type": "code",
   "execution_count": 104,
   "metadata": {},
   "outputs": [
    {
     "data": {
      "text/plain": [
       "count    306490.000000\n",
       "mean          1.422245\n",
       "std           2.400989\n",
       "min           0.000000\n",
       "25%           0.000000\n",
       "50%           0.000000\n",
       "75%           2.000000\n",
       "max         348.000000\n",
       "Name: OBS_30_CNT_SOCIAL_CIRCLE, dtype: float64"
      ]
     },
     "execution_count": 104,
     "metadata": {},
     "output_type": "execute_result"
    }
   ],
   "source": [
    "Bank_AppData_DF['OBS_30_CNT_SOCIAL_CIRCLE'].describe()\n",
    "# here we can see that the min is 0.0 and max 75% is 2.0 but max is 348. So we need to check for outliers using the box plot\n"
   ]
  },
  {
   "cell_type": "code",
   "execution_count": 105,
   "metadata": {},
   "outputs": [
    {
     "data": {
      "image/png": "[encoded data removed]",
      "text/plain": [
       "<Figure size 720x432 with 1 Axes>"
      ]
     },
     "metadata": {
      "needs_background": "light"
     },
     "output_type": "display_data"
    }
   ],
   "source": [
    "plt.figure(figsize=(10,6))\n",
    "sns.boxplot(Bank_AppData_DF['OBS_30_CNT_SOCIAL_CIRCLE'],color='red')\n",
    "plt.show()"
   ]
  },
  {
   "cell_type": "code",
   "execution_count": 106,
   "metadata": {},
   "outputs": [
    {
     "name": "stdout",
     "output_type": "stream",
     "text": [
      "OBS_30_CNT_SOCIAL_CIRCLE -- Mean : 1.4222454239942575\n",
      "OBS_30_CNT_SOCIAL_CIRCLE -- Mode : 0.0\n"
     ]
    }
   ],
   "source": [
    "print('OBS_30_CNT_SOCIAL_CIRCLE -- Mean :', Bank_AppData_DF['OBS_30_CNT_SOCIAL_CIRCLE'].mean())\n",
    "print('OBS_30_CNT_SOCIAL_CIRCLE -- Mode :',Bank_AppData_DF['OBS_30_CNT_SOCIAL_CIRCLE'].mode()[0])\n"
   ]
  },
  {
   "cell_type": "markdown",
   "metadata": {},
   "source": [
    "- Comments\n",
    "    * OBS_30_CNT_SOCIAL_CIRCLE box plot is showing 2 outlier. \n",
    "    * one is at 50 and other one at 350.\n",
    "    * This column has null percentage 0.33%. \n",
    "    * We can perform imputation on this column. \n",
    "    * We can use either mean or mode for the same.\n"
   ]
  },
  {
   "cell_type": "markdown",
   "metadata": {},
   "source": [
    "#### 6. Analysis for DEF_30_CNT_SOCIAL_CIRCLE"
   ]
  },
  {
   "cell_type": "code",
   "execution_count": 107,
   "metadata": {},
   "outputs": [
    {
     "name": "stdout",
     "output_type": "stream",
     "text": [
      "count    306490.000000\n",
      "mean          0.143421\n",
      "std           0.446698\n",
      "min           0.000000\n",
      "25%           0.000000\n",
      "50%           0.000000\n",
      "75%           0.000000\n",
      "max          34.000000\n",
      "Name: DEF_30_CNT_SOCIAL_CIRCLE, dtype: float64 \n",
      "\n",
      "Mode : 0.0 \n",
      "\n"
     ]
    },
    {
     "data": {
      "text/plain": [
       "<AxesSubplot:xlabel='DEF_30_CNT_SOCIAL_CIRCLE'>"
      ]
     },
     "execution_count": 107,
     "metadata": {},
     "output_type": "execute_result"
    },
    {
     "data": {
      "image/png": "[encoded data removed]",
      "text/plain": [
       "<Figure size 432x288 with 1 Axes>"
      ]
     },
     "metadata": {
      "needs_background": "light"
     },
     "output_type": "display_data"
    }
   ],
   "source": [
    "# identify if there are any outliers using boxplot\n",
    "print(Bank_AppData_DF['DEF_30_CNT_SOCIAL_CIRCLE'].describe(),'\\n')\n",
    "print('Mode :',Bank_AppData_DF['DEF_30_CNT_SOCIAL_CIRCLE'].mode()[0],'\\n')\n",
    "sns.boxplot(Bank_AppData_DF['DEF_30_CNT_SOCIAL_CIRCLE']) \n"
   ]
  },
  {
   "cell_type": "markdown",
   "metadata": {},
   "source": [
    "- Comments:\n",
    "    * mean 0.143421\n",
    "    * mode 0.0\n",
    "    * Null percentage is between 0 and 1, we can consider this column for imputation. "
   ]
  },
  {
   "cell_type": "markdown",
   "metadata": {},
   "source": [
    "#### 7. Analysis for OBS_60_CNT_SOCIAL_CIRCLE"
   ]
  },
  {
   "cell_type": "code",
   "execution_count": 108,
   "metadata": {},
   "outputs": [
    {
     "name": "stdout",
     "output_type": "stream",
     "text": [
      "0.0      164666\n",
      "1.0       48870\n",
      "2.0       29766\n",
      "3.0       20215\n",
      "4.0       13946\n",
      "5.0        9463\n",
      "6.0        6349\n",
      "7.0        4344\n",
      "8.0        2886\n",
      "9.0        1959\n",
      "10.0       1335\n",
      "11.0        837\n",
      "12.0        620\n",
      "13.0        401\n",
      "14.0        238\n",
      "15.0        166\n",
      "16.0        137\n",
      "17.0         73\n",
      "18.0         49\n",
      "19.0         44\n",
      "20.0         30\n",
      "21.0         28\n",
      "22.0         20\n",
      "23.0         13\n",
      "24.0         12\n",
      "25.0         11\n",
      "26.0          1\n",
      "27.0          5\n",
      "28.0          1\n",
      "29.0          2\n",
      "30.0          1\n",
      "47.0          1\n",
      "344.0         1\n",
      "Name: OBS_60_CNT_SOCIAL_CIRCLE, dtype: int64\n",
      "\n",
      "Description:\n",
      "count    306490.000000\n",
      "mean          1.405292\n",
      "std           2.379803\n",
      "min           0.000000\n",
      "25%           0.000000\n",
      "50%           0.000000\n",
      "75%           2.000000\n",
      "max         344.000000\n",
      "Name: OBS_60_CNT_SOCIAL_CIRCLE, dtype: float64\n",
      "\n",
      "Mode :  0.0\n",
      "\n"
     ]
    },
    {
     "data": {
      "text/plain": [
       "<AxesSubplot:xlabel='OBS_60_CNT_SOCIAL_CIRCLE'>"
      ]
     },
     "execution_count": 108,
     "metadata": {},
     "output_type": "execute_result"
    },
    {
     "data": {
      "image/png": "[encoded data removed]",
      "text/plain": [
       "<Figure size 432x288 with 1 Axes>"
      ]
     },
     "metadata": {
      "needs_background": "light"
     },
     "output_type": "display_data"
    }
   ],
   "source": [
    "# check values\n",
    "print(Bank_AppData_DF['OBS_60_CNT_SOCIAL_CIRCLE'].value_counts().sort_index())\n",
    "print()\n",
    "# describe\n",
    "print('Description:')\n",
    "print(Bank_AppData_DF['OBS_60_CNT_SOCIAL_CIRCLE'].describe())\n",
    "\n",
    "print('\\nMode : ',Bank_AppData_DF['OBS_60_CNT_SOCIAL_CIRCLE'].mode()[0])\n",
    "\n",
    "print()\n",
    "sns.boxplot(Bank_AppData_DF['OBS_60_CNT_SOCIAL_CIRCLE'])"
   ]
  },
  {
   "cell_type": "markdown",
   "metadata": {},
   "source": [
    "- Comments\n",
    "    * There are outliers at 50 and 350\n",
    "    * mean 1.405292\n",
    "    * Mode :  0.0\n",
    "    * Null percentage is between 0 and 1, we can consider this column for imputation."
   ]
  },
  {
   "cell_type": "markdown",
   "metadata": {},
   "source": [
    "#### 8. Analysis for DEF_60_CNT_SOCIAL_CIRCLE"
   ]
  },
  {
   "cell_type": "code",
   "execution_count": 109,
   "metadata": {},
   "outputs": [
    {
     "name": "stdout",
     "output_type": "stream",
     "text": [
      "VALUE COUNTS:\n",
      "0.0     280721\n",
      "1.0      21841\n",
      "2.0       3170\n",
      "3.0        598\n",
      "4.0        135\n",
      "5.0         20\n",
      "6.0          3\n",
      "7.0          1\n",
      "24.0         1\n",
      "Name: DEF_60_CNT_SOCIAL_CIRCLE, dtype: int64\n",
      "\n",
      "DESCRIPTION:\n",
      "count    306490.000000\n",
      "mean          0.100049\n",
      "std           0.362291\n",
      "min           0.000000\n",
      "25%           0.000000\n",
      "50%           0.000000\n",
      "75%           0.000000\n",
      "max          24.000000\n",
      "Name: DEF_60_CNT_SOCIAL_CIRCLE, dtype: float64\n",
      "\n",
      "MODE: 0.0\n"
     ]
    },
    {
     "data": {
      "image/png": "[encoded data removed]",
      "text/plain": [
       "<Figure size 432x288 with 1 Axes>"
      ]
     },
     "metadata": {
      "needs_background": "light"
     },
     "output_type": "display_data"
    }
   ],
   "source": [
    "#getting details of values\n",
    "print('VALUE COUNTS:')\n",
    "print(Bank_AppData_DF['DEF_60_CNT_SOCIAL_CIRCLE'].value_counts().sort_index())\n",
    "\n",
    "print('\\nDESCRIPTION:')\n",
    "print(Bank_AppData_DF['DEF_60_CNT_SOCIAL_CIRCLE'].describe())\n",
    "\n",
    "# retrieve mode\n",
    "print('\\nMODE:',Bank_AppData_DF['DEF_60_CNT_SOCIAL_CIRCLE'].mode()[0])\n",
    "\n",
    "#plotting box plot\n",
    "sns.boxplot(Bank_AppData_DF['DEF_60_CNT_SOCIAL_CIRCLE'])\n",
    "plt.show()"
   ]
  },
  {
   "cell_type": "markdown",
   "metadata": {},
   "source": [
    "- Comments:\n",
    "    * outliers are at 7.5 and 24\n",
    "    * mean is 0.100049 and mode is 0.0\n",
    "    * Null percentage is between 0 and 1, we can consider this column for imputation."
   ]
  },
  {
   "cell_type": "markdown",
   "metadata": {},
   "source": [
    "#### 9. Analysis for EXT_SOURCE_2"
   ]
  },
  {
   "cell_type": "code",
   "execution_count": 110,
   "metadata": {},
   "outputs": [
    {
     "name": "stdout",
     "output_type": "stream",
     "text": [
      "VALUE COUNTS:\n",
      "8.173617e-08     1\n",
      "1.315956e-06     1\n",
      "5.002109e-06     1\n",
      "5.600338e-06     1\n",
      "5.939651e-06     1\n",
      "                ..\n",
      "8.206095e-01     1\n",
      "8.206159e-01     1\n",
      "8.213936e-01     1\n",
      "8.217142e-01     1\n",
      "8.549997e-01    26\n",
      "Name: EXT_SOURCE_2, Length: 119831, dtype: int64\n",
      "\n",
      "DESCRIPTION:\n",
      "count    3.068510e+05\n",
      "mean     5.143927e-01\n",
      "std      1.910602e-01\n",
      "min      8.173617e-08\n",
      "25%      3.924574e-01\n",
      "50%      5.659614e-01\n",
      "75%      6.636171e-01\n",
      "max      8.549997e-01\n",
      "Name: EXT_SOURCE_2, dtype: float64\n",
      "\n",
      "MEDIAN: 0.5659614260608526\n",
      "\n",
      "MODE: 0.2858978721410488\n"
     ]
    },
    {
     "data": {
      "image/png": "[encoded data removed]",
      "text/plain": [
       "<Figure size 432x288 with 1 Axes>"
      ]
     },
     "metadata": {
      "needs_background": "light"
     },
     "output_type": "display_data"
    }
   ],
   "source": [
    "print('VALUE COUNTS:')\n",
    "print(Bank_AppData_DF['EXT_SOURCE_2'].value_counts().sort_index())\n",
    "\n",
    "\n",
    "\n",
    "print('\\nDESCRIPTION:')\n",
    "print(Bank_AppData_DF['EXT_SOURCE_2'].describe())\n",
    "\n",
    "# retrieve median\n",
    "print('\\nMEDIAN:',Bank_AppData_DF['EXT_SOURCE_2'].median())\n",
    "\n",
    "# retrieve mode\n",
    "print('\\nMODE:',Bank_AppData_DF['EXT_SOURCE_2'].mode()[0])\n",
    "\n",
    "#plotting box plot\n",
    "sns.boxplot(Bank_AppData_DF['EXT_SOURCE_2'])\n",
    "plt.show()"
   ]
  },
  {
   "cell_type": "markdown",
   "metadata": {},
   "source": [
    "- Comments:\n",
    "    * No Outliers\n",
    "    * mean : 5.143927e-01, mode : 0.2858978721410488, median : 0.5659614260608526\n",
    "    * Null percentage is between 0 and 1, we can consider this column for imputation."
   ]
  },
  {
   "cell_type": "markdown",
   "metadata": {},
   "source": [
    "#### 10. Analysis for AMT_GOODS_PRICE"
   ]
  },
  {
   "cell_type": "code",
   "execution_count": 111,
   "metadata": {},
   "outputs": [
    {
     "name": "stdout",
     "output_type": "stream",
     "text": [
      "VALUE COUNTS:\n",
      "40500.0         1\n",
      "45000.0      1169\n",
      "49500.0       157\n",
      "50751.0         1\n",
      "54000.0       290\n",
      "             ... \n",
      "3555000.0       1\n",
      "3600000.0       3\n",
      "3712500.0       1\n",
      "3825000.0       1\n",
      "4050000.0       8\n",
      "Name: AMT_GOODS_PRICE, Length: 1002, dtype: int64\n",
      "\n",
      "DESCRIPTION:\n",
      "count    3.072330e+05\n",
      "mean     5.383962e+05\n",
      "std      3.694465e+05\n",
      "min      4.050000e+04\n",
      "25%      2.385000e+05\n",
      "50%      4.500000e+05\n",
      "75%      6.795000e+05\n",
      "max      4.050000e+06\n",
      "Name: AMT_GOODS_PRICE, dtype: float64\n",
      "\n",
      "MEDIAN: 450000.0\n",
      "\n",
      "MODE: 450000.0\n"
     ]
    },
    {
     "data": {
      "image/png": "[encoded data removed]",
      "text/plain": [
       "<Figure size 432x288 with 1 Axes>"
      ]
     },
     "metadata": {
      "needs_background": "light"
     },
     "output_type": "display_data"
    }
   ],
   "source": [
    "print('VALUE COUNTS:')\n",
    "print(Bank_AppData_DF['AMT_GOODS_PRICE'].value_counts().sort_index())\n",
    "\n",
    "print('\\nDESCRIPTION:')\n",
    "print(Bank_AppData_DF['AMT_GOODS_PRICE'].describe())\n",
    "\n",
    "# retrieve median\n",
    "print('\\nMEDIAN:',Bank_AppData_DF['AMT_GOODS_PRICE'].median())\n",
    "\n",
    "# retrieve mode\n",
    "print('\\nMODE:',Bank_AppData_DF['AMT_GOODS_PRICE'].mode()[0])\n",
    "\n",
    "#plotting box plot\n",
    "sns.boxplot(Bank_AppData_DF['AMT_GOODS_PRICE'])\n",
    "plt.show()"
   ]
  },
  {
   "cell_type": "markdown",
   "metadata": {},
   "source": [
    "- Comments:\n",
    "    * AMT_GOODS_PRICE---->(Product Price)For consumer loans it is the price of the goods for which the loan  is given. So if we have outlier then it could be valid value of this column.\n",
    "    * mean : 5.383962e+05, mode=450000.0, median=450000.0"
   ]
  },
  {
   "cell_type": "code",
   "execution_count": 112,
   "metadata": {},
   "outputs": [
    {
     "name": "stdout",
     "output_type": "stream",
     "text": [
      "SK_ID_CURR : [100002 100003 100004 ... 456253 456254 456255]\n",
      "TARGET : [1 0]\n",
      "NAME_CONTRACT_TYPE : ['Cash loans' 'Revolving loans']\n",
      "CODE_GENDER : ['M' 'F' 'XNA']\n",
      "FLAG_OWN_CAR : ['N' 'Y']\n",
      "FLAG_OWN_REALTY : ['Y' 'N']\n",
      "CNT_CHILDREN : [ 0  1  2  3  4  7  5  6  8  9 11 12 10 19 14]\n",
      "AMT_INCOME_TOTAL : [202500.  270000.   67500.  ...  96768.  546250.5 113062.5]\n",
      "AMT_CREDIT : [ 406597.5 1293502.5  135000.  ...  181989.   743863.5 1391130. ]\n",
      "AMT_ANNUITY : [24700.5 35698.5  6750.  ... 71986.5 58770.  77809.5]\n",
      "AMT_GOODS_PRICE : [ 351000.  1129500.   135000.  ...  453465.   143977.5  743863.5]\n",
      "NAME_TYPE_SUITE : ['Unaccompanied' 'Family' 'Spouse, partner' 'Children' 'Other_A' nan\n",
      " 'Other_B' 'Group of people']\n",
      "NAME_INCOME_TYPE : ['Working' 'State servant' 'Commercial associate' 'Pensioner' 'Unemployed'\n",
      " 'Student' 'Businessman' 'Maternity leave']\n",
      "NAME_EDUCATION_TYPE : ['Secondary / secondary special' 'Higher education' 'Incomplete higher'\n",
      " 'Lower secondary' 'Academic degree']\n",
      "NAME_FAMILY_STATUS : ['Single / not married' 'Married' 'Civil marriage' 'Widow' 'Separated'\n",
      " 'Unknown']\n",
      "NAME_HOUSING_TYPE : ['House / apartment' 'Rented apartment' 'With parents'\n",
      " 'Municipal apartment' 'Office apartment' 'Co-op apartment']\n",
      "REGION_POPULATION_RELATIVE : [0.018801 0.003541 0.010032 0.008019 0.028663 0.035792 0.003122 0.018634\n",
      " 0.019689 0.0228   0.015221 0.031329 0.016612 0.010006 0.020713 0.010966\n",
      " 0.04622  0.025164 0.006296 0.026392 0.018029 0.019101 0.030755 0.008575\n",
      " 0.01885  0.006207 0.009175 0.007305 0.007114 0.009334 0.022625 0.01452\n",
      " 0.006629 0.00733  0.032561 0.00496  0.072508 0.009657 0.02461  0.003069\n",
      " 0.020246 0.018209 0.009549 0.007274 0.002134 0.010276 0.003813 0.003818\n",
      " 0.00712  0.0105   0.010147 0.010643 0.008866 0.00702  0.002506 0.005313\n",
      " 0.006233 0.008474 0.005144 0.011657 0.008625 0.014464 0.004849 0.006008\n",
      " 0.00963  0.005002 0.006852 0.011703 0.006305 0.010556 0.00823  0.006671\n",
      " 0.002042 0.005084 0.008068 0.001333 0.001417 0.001276 0.000938 0.000533\n",
      " 0.00029 ]\n",
      "DAYS_BIRTH : [ -9461 -16765 -19046 ...  -7951  -7857 -25061]\n",
      "DAYS_EMPLOYED : [  -637  -1188   -225 ... -12971 -11084  -8694]\n",
      "DAYS_REGISTRATION : [ -3648.  -1186.  -4260. ... -16396. -14558. -14798.]\n",
      "DAYS_ID_PUBLISH : [-2120  -291 -2531 ... -6194 -5854 -6211]\n",
      "FLAG_MOBIL : [1 0]\n",
      "FLAG_EMP_PHONE : [1 0]\n",
      "FLAG_WORK_PHONE : [0 1]\n",
      "FLAG_CONT_MOBILE : [1 0]\n",
      "FLAG_PHONE : [1 0]\n",
      "FLAG_EMAIL : [0 1]\n",
      "OCCUPATION_TYPE : ['Laborers' 'Core staff' 'Accountants' 'Managers' nan 'Drivers'\n",
      " 'Sales staff' 'Cleaning staff' 'Cooking staff' 'Private service staff'\n",
      " 'Medicine staff' 'Security staff' 'High skill tech staff'\n",
      " 'Waiters/barmen staff' 'Low-skill Laborers' 'Realty agents' 'Secretaries'\n",
      " 'IT staff' 'HR staff']\n",
      "CNT_FAM_MEMBERS : [ 1.  2.  3.  4.  5.  6.  9.  7.  8. 10. 13. nan 14. 12. 20. 15. 16. 11.]\n",
      "REGION_RATING_CLIENT : [2 1 3]\n",
      "REGION_RATING_CLIENT_W_CITY : [2 1 3]\n",
      "WEEKDAY_APPR_PROCESS_START : ['WEDNESDAY' 'MONDAY' 'THURSDAY' 'SUNDAY' 'SATURDAY' 'FRIDAY' 'TUESDAY']\n",
      "HOUR_APPR_PROCESS_START : [10 11  9 17 16 14  8 15  7 13  6 12 19  3 18 21  4  5 20 22  1  2 23  0]\n",
      "REG_REGION_NOT_LIVE_REGION : [0 1]\n",
      "REG_REGION_NOT_WORK_REGION : [0 1]\n",
      "LIVE_REGION_NOT_WORK_REGION : [0 1]\n",
      "REG_CITY_NOT_LIVE_CITY : [0 1]\n",
      "REG_CITY_NOT_WORK_CITY : [0 1]\n",
      "LIVE_CITY_NOT_WORK_CITY : [0 1]\n",
      "ORGANIZATION_TYPE : ['Business Entity Type 3' 'School' 'Government' 'Religion' 'Other' 'XNA'\n",
      " 'Electricity' 'Medicine' 'Business Entity Type 2' 'Self-employed'\n",
      " 'Transport: type 2' 'Construction' 'Housing' 'Kindergarten'\n",
      " 'Trade: type 7' 'Industry: type 11' 'Military' 'Services'\n",
      " 'Security Ministries' 'Transport: type 4' 'Industry: type 1' 'Emergency'\n",
      " 'Security' 'Trade: type 2' 'University' 'Transport: type 3' 'Police'\n",
      " 'Business Entity Type 1' 'Postal' 'Industry: type 4' 'Agriculture'\n",
      " 'Restaurant' 'Culture' 'Hotel' 'Industry: type 7' 'Trade: type 3'\n",
      " 'Industry: type 3' 'Bank' 'Industry: type 9' 'Insurance' 'Trade: type 6'\n",
      " 'Industry: type 2' 'Transport: type 1' 'Industry: type 12' 'Mobile'\n",
      " 'Trade: type 1' 'Industry: type 5' 'Industry: type 10' 'Legal Services'\n",
      " 'Advertising' 'Trade: type 5' 'Cleaning' 'Industry: type 13'\n",
      " 'Trade: type 4' 'Telecom' 'Industry: type 8' 'Realtor' 'Industry: type 6']\n",
      "EXT_SOURCE_2 : [0.26294859 0.62224578 0.55591208 ... 0.13118876 0.26448565 0.2678342 ]\n",
      "EXT_SOURCE_3 : [1.39375780e-01            nan 7.29566691e-01 6.21226338e-01\n",
      " 4.92060094e-01 5.40654450e-01 7.51723715e-01 3.63945239e-01\n",
      " 6.52896552e-01 1.76652579e-01 7.70087070e-01 6.78567689e-01\n",
      " 6.21030378e-02 5.56727426e-01 4.77649155e-01 5.42445144e-01\n",
      " 3.58951229e-01 6.69056695e-01 5.65607981e-01 4.61482391e-01\n",
      " 1.90705948e-01 6.59405532e-01 5.24496446e-01 4.10102573e-01\n",
      " 7.98137231e-01 4.11848556e-01 7.54406173e-01 7.22392890e-01\n",
      " 6.05836265e-01 3.20163367e-01 3.99675616e-01 6.84827659e-01\n",
      " 4.75849909e-01 7.28141299e-01 4.66864006e-01 4.79448981e-01\n",
      " 3.09275356e-01 7.99296783e-01 7.01695774e-01 7.38019620e-01\n",
      " 7.01088438e-02 1.69428727e-01 5.13693766e-01 7.07699345e-01\n",
      " 3.39287700e-01 6.97146908e-01 4.34733249e-01 2.34015167e-01\n",
      " 9.50703958e-02 5.62060483e-01 4.29423684e-01 4.13596760e-01\n",
      " 8.32785025e-01 3.94495405e-01 5.97192427e-01 6.94092643e-01\n",
      " 1.98620045e-01 1.91821602e-01 4.08358853e-01 5.35276250e-01\n",
      " 4.52533559e-01 7.20944150e-01 6.44679455e-01 3.42528872e-01\n",
      " 8.24594971e-01 5.11891802e-01 6.41368257e-01 3.28063161e-01\n",
      " 2.28883417e-01 7.74985465e-02 7.89880347e-01 2.65049430e-01\n",
      " 7.10551247e-02 1.21408286e-01 5.81483706e-01 4.06617437e-01\n",
      " 6.73830078e-01 5.54946769e-01 5.74446617e-01 1.20641030e-01\n",
      " 5.72682505e-01 9.63186928e-02 6.83268831e-01 7.39411754e-01\n",
      " 7.55740050e-01 2.11550764e-01 9.20128094e-02 7.49021705e-01\n",
      " 3.53987608e-01 7.46300213e-01 2.89611238e-01 3.17031779e-01\n",
      " 2.32724776e-01 8.12822607e-01 1.56639827e-01 1.61463080e-01\n",
      " 3.29655054e-01 8.16092360e-01 5.95456203e-01 4.17099668e-01\n",
      " 6.75413291e-01 4.43615308e-01 4.20610964e-01 7.95803133e-01\n",
      " 7.71361592e-01 5.19097338e-01 5.46023197e-01 7.88680775e-01\n",
      " 5.22697317e-01 5.08286991e-01 1.92942228e-01 3.03146374e-01\n",
      " 6.39707568e-01 2.76440695e-01 3.50695843e-01 2.69285800e-01\n",
      " 5.44234741e-01 5.49596502e-01 5.93717587e-01 7.06205110e-01\n",
      " 5.06484240e-01 7.44932185e-01 3.07736696e-01 4.27657370e-01\n",
      " 3.37672722e-01 6.07557300e-01 7.36622698e-01 3.44155007e-01\n",
      " 6.34705531e-01 2.97086612e-01 4.25892898e-01 7.59712182e-01\n",
      " 1.80887978e-01 6.09275667e-01 7.16570245e-01 2.18859082e-01\n",
      " 2.17628520e-01 6.54529280e-01 1.30947153e-01 3.80799683e-01\n",
      " 4.54321060e-01 7.42181612e-01 2.43186480e-01 1.96333966e-01\n",
      " 4.56109739e-01 7.30987370e-01 3.79100485e-01 5.20897599e-01\n",
      " 2.70707387e-01 6.95621930e-01 7.13631400e-01 6.31354537e-01\n",
      " 2.25086862e-01 4.48962273e-01 7.50375150e-01 1.83035167e-01\n",
      " 8.00451340e-01 5.28092751e-01 6.22922000e-01 7.58393062e-01\n",
      " 2.37916080e-01 3.31250865e-01 6.12704244e-01 4.63275328e-01\n",
      " 5.88487788e-01 3.15472155e-01 2.00926088e-01 5.16817674e-02\n",
      " 4.97468889e-01 4.38281374e-01 6.64248263e-01 4.95665829e-01\n",
      " 6.89479143e-01 5.77969119e-01 2.10350229e-01 6.38043528e-01\n",
      " 7.35220999e-01 6.29674251e-01 2.60855914e-01 4.70456116e-01\n",
      " 7.78904039e-01 1.73527430e-01 5.37069958e-01 5.17296581e-01\n",
      " 6.72242890e-01 6.00657537e-01 7.86266615e-01 2.63646813e-01\n",
      " 4.31191798e-01 4.65069215e-01 3.06202298e-01 3.77404249e-01\n",
      " 5.51381262e-01 6.57783800e-01 6.92559067e-01 7.40799088e-01\n",
      " 1.15386662e-01 7.19490785e-01 8.02745476e-01 4.86653157e-01\n",
      " 3.40906426e-01 2.23831317e-01 6.51260219e-01 7.12155155e-01\n",
      " 3.84206813e-01 3.55638717e-01 3.89338792e-01 7.10674386e-01\n",
      " 9.02209393e-02 5.27265239e-04 7.33814537e-01 7.85052026e-01\n",
      " 3.87625344e-01 6.80138822e-01 6.36376171e-01 6.51096140e-02\n",
      " 6.65854922e-01 6.81705878e-01 7.03203305e-01 1.87388765e-01\n",
      " 6.62637792e-01 2.56705572e-01 6.33031641e-01 7.00183851e-01\n",
      " 7.67523105e-01 3.74020803e-01 7.90596960e-02 7.75155267e-01\n",
      " 6.98667555e-01 6.76992503e-01 3.49055251e-01 7.82607837e-01\n",
      " 2.75000352e-01 2.66456808e-01 6.56158373e-01 5.86740009e-01\n",
      " 5.33481630e-01 1.26100559e-01 3.85914672e-01 6.27990819e-01\n",
      " 3.72333666e-01 3.96219572e-01 9.32250954e-02 7.73895694e-01\n",
      " 1.44648146e-01 3.91054977e-01 2.83711883e-01 2.15182404e-01\n",
      " 2.73564678e-01 5.29889834e-01 9.88592804e-02 2.52598698e-01\n",
      " 4.01407414e-01 6.19527708e-01 7.66233670e-01 8.27702668e-01\n",
      " 3.13916677e-01 5.98926218e-01 7.63639921e-01 3.70649632e-01\n",
      " 5.34780874e-02 6.02386344e-01 1.50085176e-01 3.32850564e-01\n",
      " 4.32961667e-01 6.70651753e-01 6.26304277e-01 5.63835049e-01\n",
      " 5.15495375e-01 6.14414378e-01 6.43025564e-01 4.50747282e-01\n",
      " 3.75711010e-01 2.88129600e-01 1.64414179e-01 6.10991328e-01\n",
      " 1.47345918e-01 6.61023539e-01 4.83050188e-01 5.04681319e-01\n",
      " 7.47663390e-01 7.72631135e-01 7.93449030e-01 1.88489534e-01\n",
      " 5.47810466e-01 4.88455184e-01 8.34784159e-01 2.09154699e-01\n",
      " 1.41991543e-01 8.10618022e-01 6.46329898e-01 3.26475210e-01\n",
      " 6.16121691e-01 4.57899551e-01 8.21443313e-01 1.36800522e-01\n",
      " 5.70916542e-01 3.97946322e-01 2.82248434e-01 4.93862882e-01\n",
      " 5.60284328e-01 5.53164699e-01 1.26897526e-01 1.60488931e-01\n",
      " 3.12365369e-01 5.67379237e-01 4.74051289e-01 5.01075160e-01\n",
      " 7.24966768e-02 4.40057830e-01 4.24130311e-01 9.69483171e-02\n",
      " 8.65895915e-01 4.99272015e-01 1.97474512e-01 4.45396242e-01\n",
      " 1.25307878e-01 6.17826147e-01 1.74564266e-01 7.09189110e-01\n",
      " 3.21735282e-01 2.26347396e-01 7.61026370e-01 3.45784802e-01\n",
      " 1.67408447e-01 6.04112600e-01 5.83237926e-01 1.84116156e-01\n",
      " 8.63363382e-01 7.92264474e-01 1.19877961e-01 5.76208836e-01\n",
      " 8.03885061e-01 2.22580765e-01 3.65616507e-01 8.19317692e-01\n",
      " 5.90233339e-01 5.38862707e-01 5.88259005e-02 8.35776516e-01\n",
      " 3.68968738e-01 7.18032811e-01 4.68659655e-01 1.57594999e-01\n",
      " 2.13966852e-01 1.30128543e-01 6.91021227e-01 5.20364071e-02\n",
      " 1.35106016e-01 2.95582642e-01 1.45542813e-01 3.18595524e-01\n",
      " 1.24519471e-01 7.62335618e-01 2.04422625e-01 5.26294940e-01\n",
      " 7.80143638e-01 1.11756371e-01 5.31686143e-01 9.14119938e-02\n",
      " 4.59690450e-01 4.84851475e-01 5.69148771e-01 8.59924176e-01\n",
      " 6.49620311e-01 8.07273923e-01 7.64735192e-02 4.81249341e-01\n",
      " 6.24614658e-01 7.15326763e-02 5.58506628e-01 2.30158897e-01\n",
      " 1.53802586e-01 1.23735322e-01 8.05019662e-01 6.86382335e-01\n",
      " 4.36506499e-01 5.10089528e-01 4.90257512e-01 1.41115100e-01\n",
      " 1.03449052e-01 2.91097380e-01 4.22369652e-01 7.04706423e-01\n",
      " 8.20382959e-01 8.06149281e-01 1.06155623e-01 1.85202082e-01\n",
      " 2.27612915e-01 8.06495443e-02 2.85179905e-01 2.41861487e-01\n",
      " 3.82501804e-01 7.39651461e-02 3.10818254e-01 1.37654462e-01\n",
      " 6.04436913e-02 4.18854289e-01 2.55331771e-01 8.18247508e-01\n",
      " 2.36610824e-01 1.05473186e-01 8.48244300e-01 2.79335321e-01\n",
      " 8.28728832e-01 4.41835823e-01 9.26171714e-02 6.87932838e-01\n",
      " 1.46442067e-01 2.48535557e-01 2.16402961e-01 2.03252114e-01\n",
      " 7.68807573e-01 5.84990040e-01 6.47976860e-01 4.72253343e-01\n",
      " 1.00151820e-01 5.91976618e-01 4.03141677e-01 8.33641977e-02\n",
      " 2.98594990e-01 3.34454126e-01 1.52866229e-01 1.22955418e-01\n",
      " 3.36061521e-01 8.43543539e-01 6.67457742e-01 1.51934549e-01\n",
      " 3.01624892e-01 1.99770570e-01 2.49885063e-01 2.31439351e-01\n",
      " 8.13917470e-01 1.40243184e-01 5.02878277e-01 2.40541417e-01\n",
      " 1.59519540e-01 2.06778654e-01 7.25276435e-01 1.95198406e-01\n",
      " 2.58084204e-01 1.27698794e-01 7.94628583e-01 2.53962809e-01\n",
      " 1.43758053e-01 7.23836990e-01 8.61652750e-01 3.47418227e-01\n",
      " 3.00107757e-01 1.35951044e-01 6.82511545e-02 3.60612566e-01\n",
      " 7.76409851e-01 1.79821765e-01 2.47190938e-01 3.92773861e-01\n",
      " 8.08393591e-01 1.11042402e-01 1.78760465e-01 4.47178578e-01\n",
      " 7.15103102e-01 4.04878364e-01 3.57293268e-01 2.62248971e-01\n",
      " 1.17613732e-01 9.56927242e-02 5.79727423e-01 2.21335206e-01\n",
      " 3.62277247e-01 1.68416171e-01 7.83832434e-01 5.49573941e-02\n",
      " 8.56412800e-01 2.67868936e-01 3.67291018e-01 7.32403323e-01\n",
      " 1.72495467e-01 2.86652483e-01 2.80789574e-01 3.52339973e-01\n",
      " 1.81959110e-01 1.00803706e-01 8.50326149e-02 2.35310517e-01\n",
      " 1.55689375e-01 2.12756305e-01 1.34265424e-01 1.58554900e-01\n",
      " 8.62510303e-01 3.04672184e-01 1.32597495e-01 6.77939106e-02\n",
      " 7.53067392e-01 2.30618111e-02 3.23311245e-01 1.48254379e-01\n",
      " 4.14716966e-02 1.14652494e-01 2.72133684e-01 2.94083101e-01\n",
      " 8.73042707e-02 2.07964174e-01 1.04119916e-01 1.29314289e-01\n",
      " 8.67312636e-02 1.66405546e-01 4.15347145e-01 8.81026575e-01\n",
      " 1.86292950e-01 3.92377151e-02 4.79287862e-02 2.44516392e-01\n",
      " 1.12474350e-01 2.39226279e-01 8.29750142e-01 8.78806992e-02\n",
      " 1.65407460e-01 2.59467655e-01 2.51239446e-01 2.77885689e-01\n",
      " 8.11722793e-01 8.38724852e-01 1.06841948e-01 1.38512877e-01\n",
      " 7.26711209e-01 2.02086602e-01 4.82589835e-02 1.71468367e-01\n",
      " 1.45563649e-02 7.43559314e-01 8.82530313e-01 1.09626434e-01\n",
      " 8.11859432e-02 4.41303159e-02 1.08226323e-01 3.34404021e-02\n",
      " 8.61616624e-02 8.40666560e-01 8.17255925e-02 1.63425695e-01\n",
      " 8.22498762e-01 8.45437922e-01 2.05598139e-01 8.37746853e-01\n",
      " 5.06315131e-02 6.29485767e-02 6.25244733e-02 8.23549312e-01\n",
      " 2.20094645e-01 3.97851461e-02 5.45839935e-02 8.55523587e-01\n",
      " 8.28147042e-02 1.31770133e-01 4.17593601e-02 8.52828467e-01\n",
      " 3.24891229e-01 1.13196353e-01 7.85361446e-02 1.02782014e-01\n",
      " 1.33429254e-01 1.54743631e-01 7.59656813e-02 1.41482655e-02\n",
      " 1.01459357e-01 8.01600903e-01 1.19119065e-01 6.59932074e-02\n",
      " 7.77659443e-01 1.89595260e-01 6.16842561e-02 1.02118788e-01\n",
      " 1.10332428e-01 1.75605979e-01 7.29831557e-02 7.64939274e-01\n",
      " 1.77704072e-01 2.45851214e-01 8.22685076e-02 8.39170037e-02\n",
      " 1.70446123e-01 8.69210801e-01 8.84605647e-02 9.75816127e-02\n",
      " 1.28504377e-01 5.42129844e-02 3.68624823e-02 5.68607395e-02\n",
      " 5.96296575e-02 1.04794623e-01 2.38884361e-02 8.42589277e-01\n",
      " 7.87476198e-01 9.82185953e-02 3.18464044e-02 7.05805188e-02\n",
      " 7.57069015e-01 1.51007535e-01 8.33786999e-01 4.99426019e-02\n",
      " 7.96972682e-01 2.92588007e-01 7.91074913e-01 1.94067828e-01\n",
      " 8.09508289e-01 9.08147090e-02 8.46378063e-01 4.63097465e-02\n",
      " 8.90438827e-02 8.39698085e-01 4.85913395e-02 6.91742267e-02\n",
      " 1.49167461e-01 4.44355656e-02 1.22179744e-01 8.44731375e-02\n",
      " 8.17172399e-01 1.16867266e-01 3.66072628e-02 8.01163805e-02\n",
      " 8.25635745e-01 8.80268480e-01 2.63596859e-02 8.96306691e-02\n",
      " 6.87112549e-02 7.49592809e-02 4.06200396e-02 6.38048445e-02\n",
      " 8.85488394e-01 5.09793334e-02 5.60920788e-02 1.18364326e-01\n",
      " 7.20131886e-02 6.68879340e-02 3.27480398e-02 1.42872523e-01\n",
      " 6.46719559e-02 7.95864362e-02 1.08924404e-01 8.47313519e-01\n",
      " 1.07532176e-01 9.95036835e-02 7.69844691e-02 6.73395087e-02\n",
      " 8.59053129e-01 7.80157665e-02 8.36764077e-01 5.53331995e-02\n",
      " 3.89667159e-02 3.53564629e-02 5.64751797e-02 6.96400847e-02\n",
      " 6.12681138e-02 1.13922396e-01 7.81378238e-01 4.72748180e-02\n",
      " 9.38365970e-02 8.66731234e-01 8.51008703e-01 5.27525967e-02\n",
      " 9.44516920e-02 8.55954513e-02 8.31778230e-01 6.55500263e-02\n",
      " 1.16124914e-01 6.08545970e-02 5.80323088e-02 3.71194126e-02\n",
      " 5.84278409e-02 6.64391717e-02 1.94675368e-02 2.88760241e-02\n",
      " 2.80779003e-02 1.62441998e-01 6.33753623e-02 2.61752069e-02\n",
      " 5.38443535e-02 5.76392903e-02 3.63537437e-02 6.42370375e-02\n",
      " 3.46258510e-02 6.00353829e-02 7.44606879e-02 3.41468857e-02\n",
      " 1.60781171e-02 8.57297454e-01 7.34726404e-02 2.43982125e-02\n",
      " 3.76384476e-02 5.31141728e-02 8.54629801e-01 5.02859402e-02\n",
      " 4.89258668e-02 5.13294139e-02 2.69207441e-02 2.67324463e-02\n",
      " 3.20695369e-02 8.53731432e-01 3.51112903e-02 3.86975129e-02\n",
      " 3.95105215e-02 5.72487718e-02 3.29772745e-02 4.92625778e-02\n",
      " 8.79506216e-01 8.96009549e-01 8.65056176e-01 8.30766606e-01\n",
      " 5.23933458e-02 2.82753998e-02 8.74844253e-01 4.26338431e-02\n",
      " 8.78739767e-01 4.03398941e-02 3.05388193e-02 4.69510224e-02\n",
      " 3.32080587e-02 3.25203451e-02 4.66293360e-02 3.61019144e-02\n",
      " 4.53634379e-02 8.50091881e-01 4.56768096e-02 8.77194258e-01\n",
      " 4.09020477e-02 3.16247736e-02 4.38270669e-02 4.11859296e-02\n",
      " 2.65454297e-02 4.96014853e-02 4.23404218e-02 4.76007352e-02\n",
      " 2.84742479e-02 8.70841988e-01 7.54609403e-02 8.15007386e-01\n",
      " 3.11859799e-02 3.39098058e-02 2.50944406e-02 1.67772514e-02\n",
      " 2.74934071e-02 3.56032843e-02 4.59922418e-02 4.20489313e-02\n",
      " 2.96961417e-02 2.58100107e-02 5.92265014e-02 4.47428279e-02\n",
      " 1.90587694e-02 8.73256255e-01 3.81644526e-02 3.58517647e-02\n",
      " 5.57114233e-02 4.29292066e-02 8.49170417e-01 2.47439401e-02\n",
      " 8.41630287e-01 8.26671642e-01 8.58177559e-01 3.73780642e-02\n",
      " 8.64212002e-01 8.87664202e-01 3.09687983e-02 2.37208308e-02\n",
      " 4.35258068e-02 3.14046353e-02 3.79005735e-02 3.48677564e-02\n",
      " 2.49185898e-02 3.22941806e-02 3.01146246e-02 4.50521147e-02\n",
      " 2.04550299e-02 1.13457194e-02 4.00616000e-02 1.70168720e-02\n",
      " 2.40571964e-02 2.27390386e-02 2.01679886e-02 2.86744531e-02\n",
      " 2.52715002e-02 3.03260035e-02 2.14915157e-02 2.94890196e-02\n",
      " 3.84300954e-02 3.07530812e-02 2.99046737e-02 2.24206800e-02\n",
      " 3.43855641e-02 2.03110127e-02 8.72455816e-01 2.73012161e-02\n",
      " 2.19512925e-02 2.71103313e-02 8.71651065e-01 2.54497765e-02\n",
      " 1.27159239e-02 8.93976075e-01 2.42271194e-02 2.35543731e-02\n",
      " 1.86584217e-02 2.32248707e-02 1.82663270e-02 2.59919845e-02\n",
      " 2.92832986e-02 1.39484656e-02 8.44493084e-01 1.75062455e-02\n",
      " 2.78817406e-02 1.65409482e-02 1.89243929e-02 2.90789697e-02\n",
      " 1.81374345e-02 2.00259511e-02 4.32265239e-02]\n",
      "OBS_30_CNT_SOCIAL_CIRCLE : [  2.   1.   0.   4.   8.  10.  nan   7.   3.   6.   5.  12.   9.  13.\n",
      "  11.  14.  22.  16.  15.  17.  20.  25.  19.  18.  21.  24.  23.  28.\n",
      "  26.  29.  27.  47. 348.  30.]\n",
      "DEF_30_CNT_SOCIAL_CIRCLE : [ 2.  0.  1. nan  3.  4.  5.  6.  7. 34.  8.]\n",
      "OBS_60_CNT_SOCIAL_CIRCLE : [  2.   1.   0.   4.   8.  10.  nan   7.   3.   6.   5.  12.   9.  13.\n",
      "  11.  14.  21.  15.  22.  16.  20.  25.  17.  19.  18.  24.  23.  28.\n",
      "  29.  27.  47. 344.  30.  26.]\n",
      "DEF_60_CNT_SOCIAL_CIRCLE : [ 2.  0.  1. nan  3.  5.  4.  7. 24.  6.]\n",
      "DAYS_LAST_PHONE_CHANGE : [-1134.  -828.  -815. ... -3988. -3899. -3538.]\n",
      "FLAG_DOCUMENT_2 : [0 1]\n",
      "FLAG_DOCUMENT_3 : [1 0]\n",
      "FLAG_DOCUMENT_4 : [0 1]\n",
      "FLAG_DOCUMENT_5 : [0 1]\n",
      "FLAG_DOCUMENT_6 : [0 1]\n",
      "FLAG_DOCUMENT_7 : [0 1]\n",
      "FLAG_DOCUMENT_8 : [0 1]\n",
      "FLAG_DOCUMENT_9 : [0 1]\n",
      "FLAG_DOCUMENT_10 : [0 1]\n",
      "FLAG_DOCUMENT_11 : [0 1]\n",
      "FLAG_DOCUMENT_12 : [0 1]\n",
      "FLAG_DOCUMENT_13 : [0 1]\n",
      "FLAG_DOCUMENT_14 : [0 1]\n",
      "FLAG_DOCUMENT_15 : [0 1]\n",
      "FLAG_DOCUMENT_16 : [0 1]\n",
      "FLAG_DOCUMENT_17 : [0 1]\n",
      "FLAG_DOCUMENT_18 : [0 1]\n",
      "FLAG_DOCUMENT_19 : [0 1]\n",
      "FLAG_DOCUMENT_20 : [0 1]\n",
      "FLAG_DOCUMENT_21 : [0 1]\n",
      "AMT_REQ_CREDIT_BUREAU_HOUR : [ 0. nan  1.  2.  3.  4.]\n",
      "AMT_REQ_CREDIT_BUREAU_DAY : [ 0. nan  1.  3.  2.  4.  5.  6.  9.  8.]\n",
      "AMT_REQ_CREDIT_BUREAU_WEEK : [ 0. nan  1.  3.  2.  4.  5.  6.  8.  7.]\n",
      "AMT_REQ_CREDIT_BUREAU_MON : [ 0. nan  1.  2.  6.  5.  3.  7.  9.  4. 11.  8. 16. 12. 14. 10. 13. 17.\n",
      " 24. 19. 15. 23. 18. 27. 22.]\n",
      "AMT_REQ_CREDIT_BUREAU_QRT : [  0.  nan   1.   2.   4.   3.   8.   5.   6.   7. 261.  19.]\n",
      "AMT_REQ_CREDIT_BUREAU_YEAR : [ 1.  0. nan  2.  4.  5.  3.  8.  6.  9.  7. 10. 11. 13. 16. 12. 25. 23.\n",
      " 15. 14. 22. 17. 19. 18. 21. 20.]\n"
     ]
    }
   ],
   "source": [
    "# check columns for data issue\n",
    "\n",
    "for column in Bank_AppData_DF.columns.tolist():\n",
    "    print(column,':',Bank_AppData_DF[column].unique())"
   ]
  },
  {
   "cell_type": "markdown",
   "metadata": {},
   "source": [
    "### Analysing Issues With Data"
   ]
  },
  {
   "cell_type": "markdown",
   "metadata": {},
   "source": [
    "1. CODE_GENDER : ['M' 'F' 'XNA']"
   ]
  },
  {
   "cell_type": "code",
   "execution_count": 113,
   "metadata": {},
   "outputs": [],
   "source": [
    "# replacing the XNA with the most common value in CODE_GENDER\n",
    "Bank_AppData_DF['CODE_GENDER'].replace('XNA',Bank_AppData_DF['CODE_GENDER'].mode()[0],inplace=True)"
   ]
  },
  {
   "cell_type": "code",
   "execution_count": 114,
   "metadata": {},
   "outputs": [
    {
     "data": {
      "text/plain": [
       "F    202452\n",
       "M    105059\n",
       "Name: CODE_GENDER, dtype: int64"
      ]
     },
     "execution_count": 114,
     "metadata": {},
     "output_type": "execute_result"
    }
   ],
   "source": [
    "Bank_AppData_DF['CODE_GENDER'].value_counts()"
   ]
  },
  {
   "cell_type": "markdown",
   "metadata": {},
   "source": [
    "2. DAYS_BIRTH : [ -9461 -16765 -19046...... ]"
   ]
  },
  {
   "cell_type": "code",
   "execution_count": 115,
   "metadata": {},
   "outputs": [],
   "source": [
    "Bank_AppData_DF['YEARS_BIRTH']=Bank_AppData_DF['DAYS_BIRTH'].apply(lambda x: round(abs(x)/365))"
   ]
  },
  {
   "cell_type": "code",
   "execution_count": 116,
   "metadata": {},
   "outputs": [
    {
     "data": {
      "text/plain": [
       "0         26\n",
       "1         46\n",
       "2         52\n",
       "3         52\n",
       "4         55\n",
       "          ..\n",
       "307506    26\n",
       "307507    57\n",
       "307508    41\n",
       "307509    33\n",
       "307510    46\n",
       "Name: YEARS_BIRTH, Length: 307511, dtype: int64"
      ]
     },
     "execution_count": 116,
     "metadata": {},
     "output_type": "execute_result"
    }
   ],
   "source": [
    "Bank_AppData_DF['YEARS_BIRTH']"
   ]
  },
  {
   "cell_type": "markdown",
   "metadata": {},
   "source": [
    "3. NAME_FAMILY_STATUS : ['Single / not married' 'Married' 'Civil marriage' 'Widow' 'Separated' 'Unknown']"
   ]
  },
  {
   "cell_type": "code",
   "execution_count": 117,
   "metadata": {},
   "outputs": [
    {
     "data": {
      "text/plain": [
       "Married                 63.878040\n",
       "Single / not married    14.778008\n",
       "Civil marriage           9.682580\n",
       "Separated                6.429038\n",
       "Widow                    5.231683\n",
       "Unknown                  0.000650\n",
       "Name: NAME_FAMILY_STATUS, dtype: float64"
      ]
     },
     "execution_count": 117,
     "metadata": {},
     "output_type": "execute_result"
    }
   ],
   "source": [
    "Bank_AppData_DF['NAME_FAMILY_STATUS'].value_counts(normalize=True)*100"
   ]
  },
  {
   "cell_type": "code",
   "execution_count": 118,
   "metadata": {},
   "outputs": [],
   "source": [
    "# replacing Unknown with the most common value i.e Married\n",
    "Bank_AppData_DF['NAME_FAMILY_STATUS'].replace('Unknown',Bank_AppData_DF['NAME_FAMILY_STATUS'].mode()[0],inplace=True)"
   ]
  },
  {
   "cell_type": "code",
   "execution_count": 119,
   "metadata": {},
   "outputs": [
    {
     "data": {
      "text/plain": [
       "Married                 196434\n",
       "Single / not married     45444\n",
       "Civil marriage           29775\n",
       "Separated                19770\n",
       "Widow                    16088\n",
       "Name: NAME_FAMILY_STATUS, dtype: int64"
      ]
     },
     "execution_count": 119,
     "metadata": {},
     "output_type": "execute_result"
    }
   ],
   "source": [
    "Bank_AppData_DF['NAME_FAMILY_STATUS'].value_counts()"
   ]
  },
  {
   "cell_type": "markdown",
   "metadata": {},
   "source": [
    "- Comments:\n",
    "    * Maaried category seems to be a good fit for imputation."
   ]
  },
  {
   "cell_type": "markdown",
   "metadata": {},
   "source": [
    "4. DAYS_EMPLOYED\n",
    "    - indicates How many days before the application the person started current employment     \n",
    "    - DAYS_EMPLOYED : [  -637  -1188   -225 ... -12971 -11084  -8694]\n"
   ]
  },
  {
   "cell_type": "code",
   "execution_count": 120,
   "metadata": {},
   "outputs": [
    {
     "data": {
      "text/plain": [
       "array([  -637,  -1188,   -225, ..., -12971, -11084,  -8694], dtype=int64)"
      ]
     },
     "execution_count": 120,
     "metadata": {},
     "output_type": "execute_result"
    }
   ],
   "source": [
    "Bank_AppData_DF['DAYS_EMPLOYED'].unique()"
   ]
  },
  {
   "cell_type": "code",
   "execution_count": 121,
   "metadata": {},
   "outputs": [],
   "source": [
    "\n",
    "Bank_AppData_DF['DAYS_EMPLOYED']=Bank_AppData_DF['DAYS_EMPLOYED'].apply(lambda x: abs(x) if x<0 else x)"
   ]
  },
  {
   "cell_type": "code",
   "execution_count": 122,
   "metadata": {},
   "outputs": [
    {
     "data": {
      "text/plain": [
       "365243    55374\n",
       "200         156\n",
       "224         152\n",
       "230         151\n",
       "199         151\n",
       "Name: DAYS_EMPLOYED, dtype: int64"
      ]
     },
     "execution_count": 122,
     "metadata": {},
     "output_type": "execute_result"
    }
   ],
   "source": [
    "Bank_AppData_DF['DAYS_EMPLOYED'].value_counts().head()"
   ]
  },
  {
   "cell_type": "markdown",
   "metadata": {},
   "source": [
    "- comments:\n",
    "    * there are around 55 thousand people who are working from a long time."
   ]
  },
  {
   "cell_type": "code",
   "execution_count": 123,
   "metadata": {},
   "outputs": [
    {
     "data": {
      "text/plain": [
       "array(['Pensioner', 'Unemployed'], dtype=object)"
      ]
     },
     "execution_count": 123,
     "metadata": {},
     "output_type": "execute_result"
    }
   ],
   "source": [
    "Bank_AppData_DF[Bank_AppData_DF['DAYS_EMPLOYED']==365243]['NAME_INCOME_TYPE'].unique()"
   ]
  },
  {
   "cell_type": "code",
   "execution_count": 124,
   "metadata": {},
   "outputs": [],
   "source": [
    "# Analysing years of working/experience will be easy as compare to days\n",
    "Bank_AppData_DF['YEARS_EMPLOYED']= Bank_AppData_DF['DAYS_EMPLOYED'].apply(lambda x: round(x/365))"
   ]
  },
  {
   "cell_type": "code",
   "execution_count": 125,
   "metadata": {},
   "outputs": [
    {
     "data": {
      "text/plain": [
       "0    2\n",
       "1    3\n",
       "2    1\n",
       "3    8\n",
       "4    8\n",
       "Name: YEARS_EMPLOYED, dtype: int64"
      ]
     },
     "execution_count": 125,
     "metadata": {},
     "output_type": "execute_result"
    }
   ],
   "source": [
    "Bank_AppData_DF['YEARS_EMPLOYED'].head()"
   ]
  },
  {
   "cell_type": "markdown",
   "metadata": {},
   "source": [
    "5. DAYS_REGISTRATION\n",
    "    - How many days before the application did client change his registration\n",
    "    - DAYS_REGISTRATION: [ -3648.  -1186.  -4260. ... -16396. -14558. -14798.]"
   ]
  },
  {
   "cell_type": "code",
   "execution_count": 126,
   "metadata": {},
   "outputs": [
    {
     "data": {
      "text/plain": [
       " 0.0         80\n",
       "-1.0        113\n",
       "-2.0         92\n",
       "-3.0         84\n",
       "-4.0         92\n",
       "           ... \n",
       "-22858.0      1\n",
       "-22928.0      1\n",
       "-23416.0      1\n",
       "-23738.0      1\n",
       "-24672.0      1\n",
       "Name: DAYS_REGISTRATION, Length: 15688, dtype: int64"
      ]
     },
     "execution_count": 126,
     "metadata": {},
     "output_type": "execute_result"
    }
   ],
   "source": [
    "Bank_AppData_DF['DAYS_REGISTRATION'].value_counts().sort_index(ascending=False)"
   ]
  },
  {
   "cell_type": "code",
   "execution_count": 127,
   "metadata": {},
   "outputs": [],
   "source": [
    "Bank_AppData_DF['DAYS_REGISTRATION']=Bank_AppData_DF['DAYS_REGISTRATION'].apply(lambda x: abs(x) if x<0 else x)"
   ]
  },
  {
   "cell_type": "code",
   "execution_count": 128,
   "metadata": {},
   "outputs": [
    {
     "data": {
      "text/plain": [
       "count    307511.000000\n",
       "mean       4986.120328\n",
       "std        3522.886321\n",
       "min           0.000000\n",
       "25%        2010.000000\n",
       "50%        4504.000000\n",
       "75%        7479.500000\n",
       "max       24672.000000\n",
       "Name: DAYS_REGISTRATION, dtype: float64"
      ]
     },
     "execution_count": 128,
     "metadata": {},
     "output_type": "execute_result"
    }
   ],
   "source": [
    "Bank_AppData_DF['DAYS_REGISTRATION'].describe()"
   ]
  },
  {
   "cell_type": "code",
   "execution_count": 129,
   "metadata": {},
   "outputs": [
    {
     "data": {
      "text/plain": [
       "<AxesSubplot:xlabel='DAYS_REGISTRATION'>"
      ]
     },
     "execution_count": 129,
     "metadata": {},
     "output_type": "execute_result"
    },
    {
     "data": {
      "image/png": "[encoded data removed]",
      "text/plain": [
       "<Figure size 432x288 with 1 Axes>"
      ]
     },
     "metadata": {
      "needs_background": "light"
     },
     "output_type": "display_data"
    }
   ],
   "source": [
    "sns.boxplot(Bank_AppData_DF['DAYS_REGISTRATION'])"
   ]
  },
  {
   "cell_type": "code",
   "execution_count": 130,
   "metadata": {},
   "outputs": [],
   "source": [
    " Bank_AppData_DF['YEARS_REGISTRATION']=Bank_AppData_DF['DAYS_REGISTRATION'].apply(lambda x: round(x/365) )"
   ]
  },
  {
   "cell_type": "code",
   "execution_count": 131,
   "metadata": {},
   "outputs": [
    {
     "data": {
      "text/plain": [
       "0         10\n",
       "1          3\n",
       "2         12\n",
       "3         27\n",
       "4         12\n",
       "          ..\n",
       "307506    23\n",
       "307507    12\n",
       "307508    18\n",
       "307509     7\n",
       "307510    14\n",
       "Name: YEARS_REGISTRATION, Length: 307511, dtype: int64"
      ]
     },
     "execution_count": 131,
     "metadata": {},
     "output_type": "execute_result"
    }
   ],
   "source": [
    "Bank_AppData_DF['YEARS_REGISTRATION']"
   ]
  },
  {
   "cell_type": "markdown",
   "metadata": {},
   "source": [
    "6. DAYS_ID_PUBLISH\n",
    "    - How many days before the application did client change the identity document with which he applied for the loan\n",
    "    - DAYS_ID_PUBLISH : [-2120  -291 -2531 ... -6194 -5854 -6211]"
   ]
  },
  {
   "cell_type": "code",
   "execution_count": 132,
   "metadata": {},
   "outputs": [
    {
     "data": {
      "text/plain": [
       "array([-2120,  -291, -2531, ..., -6194, -5854, -6211], dtype=int64)"
      ]
     },
     "execution_count": 132,
     "metadata": {},
     "output_type": "execute_result"
    }
   ],
   "source": [
    "Bank_AppData_DF['DAYS_ID_PUBLISH'].unique()"
   ]
  },
  {
   "cell_type": "code",
   "execution_count": 133,
   "metadata": {},
   "outputs": [],
   "source": [
    "Bank_AppData_DF['DAYS_ID_PUBLISH']=Bank_AppData_DF['DAYS_ID_PUBLISH'].apply(lambda x: abs(x) if x<0 else x)"
   ]
  },
  {
   "cell_type": "code",
   "execution_count": 134,
   "metadata": {},
   "outputs": [],
   "source": [
    "Bank_AppData_DF['YEARS_ID_PUBLISH']=Bank_AppData_DF['DAYS_ID_PUBLISH'].apply(lambda x: round(x/365))"
   ]
  },
  {
   "cell_type": "markdown",
   "metadata": {},
   "source": [
    "7. DAYS_LAST_PHONE_CHANGE\n",
    "    - DAYS_LAST_PHONE_CHANGE : [-1134.  -828.  -815. ... -3988. -3899. -3538.]\n",
    "    - How many days before application did client change phone"
   ]
  },
  {
   "cell_type": "code",
   "execution_count": 135,
   "metadata": {},
   "outputs": [
    {
     "data": {
      "text/plain": [
       " 0.0       37672\n",
       "-1.0        2812\n",
       "-2.0        2318\n",
       "-3.0        1763\n",
       "-4.0        1285\n",
       "           ...  \n",
       "-4051.0        1\n",
       "-3593.0        1\n",
       "-3622.0        1\n",
       "-3570.0        1\n",
       "-3538.0        1\n",
       "Name: DAYS_LAST_PHONE_CHANGE, Length: 3773, dtype: int64"
      ]
     },
     "execution_count": 135,
     "metadata": {},
     "output_type": "execute_result"
    }
   ],
   "source": [
    "Bank_AppData_DF['DAYS_LAST_PHONE_CHANGE'].value_counts()"
   ]
  },
  {
   "cell_type": "code",
   "execution_count": 136,
   "metadata": {},
   "outputs": [],
   "source": [
    "Bank_AppData_DF['DAYS_LAST_PHONE_CHANGE']=Bank_AppData_DF['DAYS_LAST_PHONE_CHANGE'].apply(lambda x: abs(x) if x<0 else x)"
   ]
  },
  {
   "cell_type": "code",
   "execution_count": 137,
   "metadata": {},
   "outputs": [
    {
     "data": {
      "text/plain": [
       "dtype('float64')"
      ]
     },
     "execution_count": 137,
     "metadata": {},
     "output_type": "execute_result"
    }
   ],
   "source": [
    "Bank_AppData_DF['DAYS_LAST_PHONE_CHANGE'].dtype"
   ]
  },
  {
   "cell_type": "code",
   "execution_count": 138,
   "metadata": {},
   "outputs": [],
   "source": [
    "Bank_AppData_DF['YEARS_LAST_PHONE_CHANGE']=Bank_AppData_DF['DAYS_LAST_PHONE_CHANGE'].apply(lambda x:x if np.isnan(x) else round(x/365),0)"
   ]
  },
  {
   "cell_type": "code",
   "execution_count": 139,
   "metadata": {},
   "outputs": [
    {
     "data": {
      "text/plain": [
       "array([3, 2, 7, 4, 0, 5, 6, 1, 8, 9, 11, 10, nan, 12], dtype=object)"
      ]
     },
     "execution_count": 139,
     "metadata": {},
     "output_type": "execute_result"
    }
   ],
   "source": [
    "Bank_AppData_DF['YEARS_LAST_PHONE_CHANGE'].unique()"
   ]
  },
  {
   "cell_type": "markdown",
   "metadata": {},
   "source": [
    "## Helper Functions"
   ]
  },
  {
   "cell_type": "markdown",
   "metadata": {},
   "source": [
    "##### we are calculating the IQR to find the outliers in multiple places. So instead of writing the same code multiple times, I am creating a function for the same."
   ]
  },
  {
   "cell_type": "markdown",
   "metadata": {},
   "source": [
    "1. Calcualte IQR"
   ]
  },
  {
   "cell_type": "code",
   "execution_count": 140,
   "metadata": {},
   "outputs": [],
   "source": [
    "\n",
    "def calcIQR(IQR_func_df,colName):\n",
    "    \n",
    "    Q1= IQR_func_df[colName].quantile(0.25)\n",
    "    Q3= IQR_func_df[colName].quantile(0.75)\n",
    "    \n",
    "    IQR= Q3-Q1\n",
    "    outliers={}\n",
    "    outliers['MinOutlierThreshold']=Q1- 1.5*IQR\n",
    "    outliers['MaxOutlierThreshold']=Q3+1.5*IQR\n",
    "    \n",
    "    return outliers\n",
    "    "
   ]
  },
  {
   "cell_type": "markdown",
   "metadata": {},
   "source": [
    "## Working with Numerical Data"
   ]
  },
  {
   "cell_type": "code",
   "execution_count": 141,
   "metadata": {},
   "outputs": [
    {
     "data": {
      "text/plain": [
       "['SK_ID_CURR',\n",
       " 'TARGET',\n",
       " 'CNT_CHILDREN',\n",
       " 'AMT_INCOME_TOTAL',\n",
       " 'AMT_CREDIT',\n",
       " 'AMT_ANNUITY',\n",
       " 'AMT_GOODS_PRICE',\n",
       " 'REGION_POPULATION_RELATIVE',\n",
       " 'DAYS_BIRTH',\n",
       " 'DAYS_EMPLOYED',\n",
       " 'DAYS_REGISTRATION',\n",
       " 'DAYS_ID_PUBLISH',\n",
       " 'FLAG_MOBIL',\n",
       " 'FLAG_EMP_PHONE',\n",
       " 'FLAG_WORK_PHONE',\n",
       " 'FLAG_CONT_MOBILE',\n",
       " 'FLAG_PHONE',\n",
       " 'FLAG_EMAIL',\n",
       " 'CNT_FAM_MEMBERS',\n",
       " 'REGION_RATING_CLIENT',\n",
       " 'REGION_RATING_CLIENT_W_CITY',\n",
       " 'HOUR_APPR_PROCESS_START',\n",
       " 'REG_REGION_NOT_LIVE_REGION',\n",
       " 'REG_REGION_NOT_WORK_REGION',\n",
       " 'LIVE_REGION_NOT_WORK_REGION',\n",
       " 'REG_CITY_NOT_LIVE_CITY',\n",
       " 'REG_CITY_NOT_WORK_CITY',\n",
       " 'LIVE_CITY_NOT_WORK_CITY',\n",
       " 'EXT_SOURCE_2',\n",
       " 'EXT_SOURCE_3',\n",
       " 'OBS_30_CNT_SOCIAL_CIRCLE',\n",
       " 'DEF_30_CNT_SOCIAL_CIRCLE',\n",
       " 'OBS_60_CNT_SOCIAL_CIRCLE',\n",
       " 'DEF_60_CNT_SOCIAL_CIRCLE',\n",
       " 'DAYS_LAST_PHONE_CHANGE',\n",
       " 'FLAG_DOCUMENT_2',\n",
       " 'FLAG_DOCUMENT_3',\n",
       " 'FLAG_DOCUMENT_4',\n",
       " 'FLAG_DOCUMENT_5',\n",
       " 'FLAG_DOCUMENT_6',\n",
       " 'FLAG_DOCUMENT_7',\n",
       " 'FLAG_DOCUMENT_8',\n",
       " 'FLAG_DOCUMENT_9',\n",
       " 'FLAG_DOCUMENT_10',\n",
       " 'FLAG_DOCUMENT_11',\n",
       " 'FLAG_DOCUMENT_12',\n",
       " 'FLAG_DOCUMENT_13',\n",
       " 'FLAG_DOCUMENT_14',\n",
       " 'FLAG_DOCUMENT_15',\n",
       " 'FLAG_DOCUMENT_16',\n",
       " 'FLAG_DOCUMENT_17',\n",
       " 'FLAG_DOCUMENT_18',\n",
       " 'FLAG_DOCUMENT_19',\n",
       " 'FLAG_DOCUMENT_20',\n",
       " 'FLAG_DOCUMENT_21',\n",
       " 'AMT_REQ_CREDIT_BUREAU_HOUR',\n",
       " 'AMT_REQ_CREDIT_BUREAU_DAY',\n",
       " 'AMT_REQ_CREDIT_BUREAU_WEEK',\n",
       " 'AMT_REQ_CREDIT_BUREAU_MON',\n",
       " 'AMT_REQ_CREDIT_BUREAU_QRT',\n",
       " 'AMT_REQ_CREDIT_BUREAU_YEAR',\n",
       " 'YEARS_BIRTH',\n",
       " 'YEARS_EMPLOYED',\n",
       " 'YEARS_REGISTRATION',\n",
       " 'YEARS_ID_PUBLISH']"
      ]
     },
     "execution_count": 141,
     "metadata": {},
     "output_type": "execute_result"
    }
   ],
   "source": [
    "numericalTypeColumns= Bank_AppData_DF.select_dtypes(include=np.number).columns.tolist()\n",
    "numericalTypeColumns"
   ]
  },
  {
   "cell_type": "markdown",
   "metadata": {},
   "source": [
    "1. CNT_CHILDREN\n",
    "    - CNT_CHILDREN : [ 0  1  2  3  4  7  5  6  8  9 11 12 10 19 14]\n",
    "    - Number of children the client has"
   ]
  },
  {
   "cell_type": "code",
   "execution_count": 142,
   "metadata": {},
   "outputs": [
    {
     "data": {
      "text/plain": [
       "0     70.036844\n",
       "1     19.875387\n",
       "2      8.698551\n",
       "3      1.208737\n",
       "4      0.139507\n",
       "5      0.027316\n",
       "6      0.006829\n",
       "7      0.002276\n",
       "8      0.000650\n",
       "9      0.000650\n",
       "10     0.000650\n",
       "11     0.000325\n",
       "12     0.000650\n",
       "14     0.000976\n",
       "19     0.000650\n",
       "Name: CNT_CHILDREN, dtype: float64"
      ]
     },
     "execution_count": 142,
     "metadata": {},
     "output_type": "execute_result"
    }
   ],
   "source": [
    "Bank_AppData_DF['CNT_CHILDREN'].value_counts(normalize=True).sort_index()*100"
   ]
  },
  {
   "cell_type": "code",
   "execution_count": 143,
   "metadata": {},
   "outputs": [
    {
     "name": "stdout",
     "output_type": "stream",
     "text": [
      "{'MinOutlierThreshold': -1.5, 'MaxOutlierThreshold': 2.5} \n",
      " values before MinOutlierThreshold and after MaxOutlierThreshold are outliers\n"
     ]
    },
    {
     "data": {
      "image/png": "[encoded data removed]",
      "text/plain": [
       "<Figure size 864x432 with 1 Axes>"
      ]
     },
     "metadata": {
      "needs_background": "light"
     },
     "output_type": "display_data"
    }
   ],
   "source": [
    "\n",
    "print(calcIQR(Bank_AppData_DF,'CNT_CHILDREN'),'\\n','values before MinOutlierThreshold and after MaxOutlierThreshold are outliers')\n",
    "\n",
    "plt.figure(figsize=(12,6))\n",
    "sns.boxplot(Bank_AppData_DF['CNT_CHILDREN'])\n",
    "plt.show()\n"
   ]
  },
  {
   "cell_type": "markdown",
   "metadata": {},
   "source": [
    "- Comments:\n",
    "    * applicants who are having 3 or more children are outliers here"
   ]
  },
  {
   "cell_type": "markdown",
   "metadata": {},
   "source": [
    "2. AMT_INCOME_TOTAL\n",
    "    - AMT_INCOME_TOTAL : [202500.  270000.   67500.  ...  96768.  546250.5 113062.5]\n",
    "    - Income of the client"
   ]
  },
  {
   "cell_type": "code",
   "execution_count": 157,
   "metadata": {},
   "outputs": [
    {
     "data": {
      "text/plain": [
       "count    3.075110e+05\n",
       "mean     1.687979e+05\n",
       "std      2.371231e+05\n",
       "min      2.565000e+04\n",
       "50%      1.471500e+05\n",
       "75%      2.025000e+05\n",
       "99%      4.725000e+05\n",
       "99.9%    9.000000e+05\n",
       "max      1.170000e+08\n",
       "Name: AMT_INCOME_TOTAL, dtype: float64"
      ]
     },
     "execution_count": 157,
     "metadata": {},
     "output_type": "execute_result"
    }
   ],
   "source": [
    "temp=Bank_AppData_DF['AMT_INCOME_TOTAL'].value_counts(normalize=True)*100\n",
    "Bank_AppData_DF['AMT_INCOME_TOTAL'].describe(percentiles=[0.75,0.99,0.999])\n",
    "# print(calcIQR(Bank_AppData_DF,'AMT_INCOME_TOTAL'))\n"
   ]
  },
  {
   "cell_type": "code",
   "execution_count": 162,
   "metadata": {},
   "outputs": [
    {
     "data": {
      "text/plain": [
       "<AxesSubplot:xlabel='AMT_INCOME_TOTAL'>"
      ]
     },
     "execution_count": 162,
     "metadata": {},
     "output_type": "execute_result"
    },
    {
     "data": {
      "image/png": "[encoded data removed]",
      "text/plain": [
       "<Figure size 432x288 with 1 Axes>"
      ]
     },
     "metadata": {
      "needs_background": "light"
     },
     "output_type": "display_data"
    }
   ],
   "source": [
    "sns.boxplot(Bank_AppData_DF['AMT_INCOME_TOTAL'])"
   ]
  },
  {
   "cell_type": "markdown",
   "metadata": {},
   "source": [
    "not able to identify anyhing from above chart. Need to consider the values with respect to the 99.9 percentile. i.e 90k"
   ]
  },
  {
   "cell_type": "code",
   "execution_count": 161,
   "metadata": {},
   "outputs": [
    {
     "data": {
      "text/plain": [
       "<seaborn.axisgrid.FacetGrid at 0x17f13e97700>"
      ]
     },
     "execution_count": 161,
     "metadata": {},
     "output_type": "execute_result"
    },
    {
     "data": {
      "image/png": "[encoded data removed]",
      "text/plain": [
       "<Figure size 432x288 with 1 Axes>"
      ]
     },
     "metadata": {
      "needs_background": "light"
     },
     "output_type": "display_data"
    },
    {
     "data": {
      "image/png": "[encoded data removed]",
      "text/plain": [
       "<Figure size 360x360 with 1 Axes>"
      ]
     },
     "metadata": {
      "needs_background": "light"
     },
     "output_type": "display_data"
    }
   ],
   "source": [
    "sns.boxplot(Bank_AppData_DF.AMT_INCOME_TOTAL[Bank_AppData_DF['AMT_INCOME_TOTAL']<900000])\n",
    "sns.displot(Bank_AppData_DF.AMT_INCOME_TOTAL[Bank_AppData_DF['AMT_INCOME_TOTAL']<900000])"
   ]
  },
  {
   "cell_type": "markdown",
   "metadata": {},
   "source": [
    "- comments:\n",
    "    * people who are having income/salaries more than 90k are outliers\n",
    "    "
   ]
  },
  {
   "cell_type": "markdown",
   "metadata": {},
   "source": [
    "3. CNT_FAM_MEMBERS\n",
    "    - CNT_FAM_MEMBERS : [ 1.  2.  3.  4.  5.  6.  9.  7.  8. 10. 13. nan 14. 12. 20. 15. 16. 11.]\n",
    "    - How many family members does client have\n"
   ]
  },
  {
   "cell_type": "code",
   "execution_count": 166,
   "metadata": {},
   "outputs": [
    {
     "data": {
      "text/plain": [
       "count    307509.000000\n",
       "mean          2.152665\n",
       "std           0.910682\n",
       "min           1.000000\n",
       "50%           2.000000\n",
       "75%           3.000000\n",
       "99%           5.000000\n",
       "99.9%         6.000000\n",
       "max          20.000000\n",
       "Name: CNT_FAM_MEMBERS, dtype: float64"
      ]
     },
     "execution_count": 166,
     "metadata": {},
     "output_type": "execute_result"
    }
   ],
   "source": [
    "Bank_AppData_DF['CNT_FAM_MEMBERS'].describe(percentiles=[0.75,0.99,0.999])\n",
    "# Bank_AppData_DF['CNT_FAM_MEMBERS'].unique()"
   ]
  },
  {
   "cell_type": "code",
   "execution_count": 167,
   "metadata": {},
   "outputs": [
    {
     "data": {
      "text/plain": [
       "<AxesSubplot:xlabel='CNT_FAM_MEMBERS'>"
      ]
     },
     "execution_count": 167,
     "metadata": {},
     "output_type": "execute_result"
    },
    {
     "data": {
      "image/png": "[encoded data removed]",
      "text/plain": [
       "<Figure size 432x288 with 1 Axes>"
      ]
     },
     "metadata": {
      "needs_background": "light"
     },
     "output_type": "display_data"
    }
   ],
   "source": [
    "sns.boxplot(Bank_AppData_DF['CNT_FAM_MEMBERS'])"
   ]
  },
  {
   "cell_type": "markdown",
   "metadata": {},
   "source": [
    "- comments:\n",
    "    * we can see that people who are having 5 or more family members are outliers"
   ]
  },
  {
   "cell_type": "markdown",
   "metadata": {},
   "source": [
    "4. AMT_ANNUITY\n",
    "    - AMT_ANNUITY : [24700.5 35698.5  6750.  ... 71986.5 58770.  77809.5]\n",
    "    - Loan annuity (EMI Ammount)"
   ]
  },
  {
   "cell_type": "code",
   "execution_count": 168,
   "metadata": {},
   "outputs": [
    {
     "data": {
      "text/plain": [
       "count    307499.000000\n",
       "mean      27108.573909\n",
       "std       14493.737315\n",
       "min        1615.500000\n",
       "50%       24903.000000\n",
       "75%       34596.000000\n",
       "99%       70006.500000\n",
       "99.9%    110047.500000\n",
       "max      258025.500000\n",
       "Name: AMT_ANNUITY, dtype: float64"
      ]
     },
     "execution_count": 168,
     "metadata": {},
     "output_type": "execute_result"
    }
   ],
   "source": [
    "Bank_AppData_DF['AMT_ANNUITY'].describe(percentiles=[0.75,0.99,0.999])"
   ]
  },
  {
   "cell_type": "code",
   "execution_count": 169,
   "metadata": {},
   "outputs": [
    {
     "data": {
      "text/plain": [
       "<AxesSubplot:xlabel='AMT_ANNUITY'>"
      ]
     },
     "execution_count": 169,
     "metadata": {},
     "output_type": "execute_result"
    },
    {
     "data": {
      "image/png": "[encoded data removed]",
      "text/plain": [
       "<Figure size 432x288 with 1 Axes>"
      ]
     },
     "metadata": {
      "needs_background": "light"
     },
     "output_type": "display_data"
    }
   ],
   "source": [
    "sns.boxplot(Bank_AppData_DF['AMT_ANNUITY'])"
   ]
  },
  {
   "cell_type": "markdown",
   "metadata": {},
   "source": [
    "from above boxplot, i am not able to understand the outliers. To get more insight, i am calling the prefdefine helper function which will give me the details for outliers"
   ]
  },
  {
   "cell_type": "code",
   "execution_count": 172,
   "metadata": {},
   "outputs": [
    {
     "name": "stdout",
     "output_type": "stream",
     "text": [
      "{'MinOutlierThreshold': -10584.0, 'MaxOutlierThreshold': 61704.0}\n"
     ]
    }
   ],
   "source": [
    "print(calcIQR(Bank_AppData_DF,'AMT_ANNUITY'))"
   ]
  },
  {
   "cell_type": "markdown",
   "metadata": {},
   "source": [
    "- Comments:\n",
    "    * the values before -10584.0 and after 61704.0 are outliers"
   ]
  },
  {
   "cell_type": "markdown",
   "metadata": {},
   "source": [
    "5. AMT_CREDIT\n",
    "    - AMT_CREDIT : [ 406597.5 1293502.5  135000.  ...  181989.   743863.5 1391130. ]\n",
    "    - Credit amount of the loan"
   ]
  },
  {
   "cell_type": "code",
   "execution_count": 173,
   "metadata": {},
   "outputs": [
    {
     "data": {
      "text/plain": [
       "count    3.075110e+05\n",
       "mean     5.990260e+05\n",
       "std      4.024908e+05\n",
       "min      4.500000e+04\n",
       "50%      5.135310e+05\n",
       "75%      8.086500e+05\n",
       "99%      1.854000e+06\n",
       "99.9%    2.517300e+06\n",
       "max      4.050000e+06\n",
       "Name: AMT_CREDIT, dtype: float64"
      ]
     },
     "execution_count": 173,
     "metadata": {},
     "output_type": "execute_result"
    }
   ],
   "source": [
    "Bank_AppData_DF['AMT_CREDIT'].describe(percentiles=[0.75,0.99,0.999])"
   ]
  },
  {
   "cell_type": "code",
   "execution_count": 174,
   "metadata": {},
   "outputs": [
    {
     "data": {
      "text/plain": [
       "<AxesSubplot:xlabel='AMT_CREDIT'>"
      ]
     },
     "execution_count": 174,
     "metadata": {},
     "output_type": "execute_result"
    },
    {
     "data": {
      "image/png": "[encoded data removed]",
      "text/plain": [
       "<Figure size 432x288 with 1 Axes>"
      ]
     },
     "metadata": {
      "needs_background": "light"
     },
     "output_type": "display_data"
    }
   ],
   "source": [
    "sns.boxplot(Bank_AppData_DF['AMT_CREDIT'])"
   ]
  },
  {
   "cell_type": "code",
   "execution_count": 176,
   "metadata": {},
   "outputs": [
    {
     "data": {
      "text/plain": [
       "{'MinOutlierThreshold': -537975.0, 'MaxOutlierThreshold': 1616625.0}"
      ]
     },
     "execution_count": 176,
     "metadata": {},
     "output_type": "execute_result"
    }
   ],
   "source": [
    "calcIQR(Bank_AppData_DF,'AMT_CREDIT')"
   ]
  },
  {
   "cell_type": "markdown",
   "metadata": {},
   "source": [
    "- Comments:\n",
    "    * the values before -537975.0 and after 1616625.0 are outliers"
   ]
  },
  {
   "cell_type": "markdown",
   "metadata": {},
   "source": [
    "6. DAYS_LAST_PHONE_CHANGE\n",
    "    - DAYS_LAST_PHONE_CHANGE : [-1134.  -828.  -815. ... -3988. -3899. -3538.]\n",
    "    - How many days before application did client change phone"
   ]
  },
  {
   "cell_type": "code",
   "execution_count": 180,
   "metadata": {},
   "outputs": [
    {
     "data": {
      "text/plain": [
       "array([1134.,  828.,  815., ..., 3988., 3899., 3538.])"
      ]
     },
     "execution_count": 180,
     "metadata": {},
     "output_type": "execute_result"
    }
   ],
   "source": [
    "Bank_AppData_DF['DAYS_LAST_PHONE_CHANGE'].describe(percentiles=[0.75,0.99,0.999])\n",
    "Bank_AppData_DF['DAYS_LAST_PHONE_CHANGE'].unique()"
   ]
  },
  {
   "cell_type": "code",
   "execution_count": 178,
   "metadata": {},
   "outputs": [
    {
     "data": {
      "text/plain": [
       "<AxesSubplot:xlabel='DAYS_LAST_PHONE_CHANGE'>"
      ]
     },
     "execution_count": 178,
     "metadata": {},
     "output_type": "execute_result"
    },
    {
     "data": {
      "image/png": "[encoded data removed]",
      "text/plain": [
       "<Figure size 432x288 with 1 Axes>"
      ]
     },
     "metadata": {
      "needs_background": "light"
     },
     "output_type": "display_data"
    }
   ],
   "source": [
    "sns.boxplot(Bank_AppData_DF['DAYS_LAST_PHONE_CHANGE'])"
   ]
  },
  {
   "cell_type": "code",
   "execution_count": 179,
   "metadata": {},
   "outputs": [
    {
     "data": {
      "text/plain": [
       "{'MinOutlierThreshold': -1670.0, 'MaxOutlierThreshold': 3514.0}"
      ]
     },
     "execution_count": 179,
     "metadata": {},
     "output_type": "execute_result"
    }
   ],
   "source": [
    "calcIQR(Bank_AppData_DF,'DAYS_LAST_PHONE_CHANGE') "
   ]
  },
  {
   "cell_type": "markdown",
   "metadata": {},
   "source": [
    "- Comments:\n",
    "    * the values before -1670.0 and after 3514.0 are outliers"
   ]
  }
 ],
 "metadata": {
  "kernelspec": {
   "display_name": "Python 3.10.4 64-bit",
   "language": "python",
   "name": "python3"
  },
  "language_info": {
   "codemirror_mode": {
    "name": "ipython",
    "version": 3
   },
   "file_extension": ".py",
   "mimetype": "text/x-python",
   "name": "python",
   "nbconvert_exporter": "python",
   "pygments_lexer": "ipython3",
   "version": "3.10.4"
  },
  "orig_nbformat": 4,
  "vscode": {
   "interpreter": {
    "hash": "887f61ba0157b89fb589717c3da5d61a6949953d677140dcdb73a661bb5cb8a1"
   }
  }
 },
 "nbformat": 4,
 "nbformat_minor": 2
}
